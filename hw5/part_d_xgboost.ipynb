{
  "nbformat": 4,
  "nbformat_minor": 0,
  "metadata": {
    "colab": {
      "name": "part_d_xgboost.ipynb",
      "provenance": [],
      "authorship_tag": "ABX9TyMJ/WvvF2P+P59Rcuye5DmY"
    },
    "kernelspec": {
      "name": "python3",
      "display_name": "Python 3"
    },
    "language_info": {
      "name": "python"
    }
  },
  "cells": [
    {
      "cell_type": "markdown",
      "metadata": {
        "id": "W9nKYR7BL9ms"
      },
      "source": [
        "# **Part D - XGBoost**"
      ]
    },
    {
      "cell_type": "code",
      "metadata": {
        "id": "4eVnbu8_A61u"
      },
      "source": [
        "#import required libraries\n",
        "import numpy as np\n",
        "import pandas as pd\n",
        "\n",
        "import matplotlib.pyplot as plt\n",
        "import seaborn as sns\n",
        "% matplotlib inline\n",
        "\n",
        "from collections import Counter\n",
        "from datetime import datetime\n",
        "import math \n",
        "from google.colab import files\n",
        "import io\n",
        "import datetime as dt\n",
        "import re\n",
        "import pandas_profiling\n",
        "import pandas_profiling as pp\n",
        "from math import sqrt\n",
        "\n",
        "plt.style.use('seaborn-whitegrid')\n",
        "\n",
        "import warnings\n",
        "warnings.filterwarnings('ignore')"
      ],
      "execution_count": 2,
      "outputs": []
    },
    {
      "cell_type": "markdown",
      "metadata": {
        "id": "po-IXnDBMiE9"
      },
      "source": [
        "## **Loading training and test data**"
      ]
    },
    {
      "cell_type": "code",
      "metadata": {
        "colab": {
          "resources": {
            "http://localhost:8080/nbextensions/google.colab/files.js": {
              "data": "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",
              "ok": true,
              "headers": [
                [
                  "content-type",
                  "application/javascript"
                ]
              ],
              "status": 200,
              "status_text": "OK"
            }
          },
          "base_uri": "https://localhost:8080/",
          "height": 75
        },
        "id": "G70OFdNEMfPw",
        "outputId": "0c78e5d9-7875-4169-8bf1-9db3492ef1b0"
      },
      "source": [
        "uploaded = files.upload()"
      ],
      "execution_count": 4,
      "outputs": [
        {
          "output_type": "display_data",
          "data": {
            "text/html": [
              "\n",
              "     <input type=\"file\" id=\"files-a08d3acf-f5d4-4d11-9839-cbf6d6b912ec\" name=\"files[]\" multiple disabled\n",
              "        style=\"border:none\" />\n",
              "     <output id=\"result-a08d3acf-f5d4-4d11-9839-cbf6d6b912ec\">\n",
              "      Upload widget is only available when the cell has been executed in the\n",
              "      current browser session. Please rerun this cell to enable.\n",
              "      </output>\n",
              "      <script src=\"/nbextensions/google.colab/files.js\"></script> "
            ],
            "text/plain": [
              "<IPython.core.display.HTML object>"
            ]
          },
          "metadata": {
            "tags": []
          }
        },
        {
          "output_type": "stream",
          "text": [
            "Saving nyc_sub_data.csv to nyc_sub_data.csv\n"
          ],
          "name": "stdout"
        }
      ]
    },
    {
      "cell_type": "code",
      "metadata": {
        "colab": {
          "base_uri": "https://localhost:8080/",
          "height": 206
        },
        "id": "ION_YH1AMtTA",
        "outputId": "80013b52-be7e-4eb6-ce67-1a466dba0223"
      },
      "source": [
        "#reading to a dataframe\n",
        "train = pd.read_csv(io.BytesIO(uploaded['nyc_sub_data.csv']))\n",
        "train.head()"
      ],
      "execution_count": 5,
      "outputs": [
        {
          "output_type": "execute_result",
          "data": {
            "text/html": [
              "<div>\n",
              "<style scoped>\n",
              "    .dataframe tbody tr th:only-of-type {\n",
              "        vertical-align: middle;\n",
              "    }\n",
              "\n",
              "    .dataframe tbody tr th {\n",
              "        vertical-align: top;\n",
              "    }\n",
              "\n",
              "    .dataframe thead th {\n",
              "        text-align: right;\n",
              "    }\n",
              "</style>\n",
              "<table border=\"1\" class=\"dataframe\">\n",
              "  <thead>\n",
              "    <tr style=\"text-align: right;\">\n",
              "      <th></th>\n",
              "      <th>Unnamed: 0</th>\n",
              "      <th>key</th>\n",
              "      <th>fare_amount</th>\n",
              "      <th>pickup_datetime</th>\n",
              "      <th>pickup_longitude</th>\n",
              "      <th>pickup_latitude</th>\n",
              "      <th>dropoff_longitude</th>\n",
              "      <th>dropoff_latitude</th>\n",
              "      <th>passenger_count</th>\n",
              "    </tr>\n",
              "  </thead>\n",
              "  <tbody>\n",
              "    <tr>\n",
              "      <th>0</th>\n",
              "      <td>0</td>\n",
              "      <td>2010-11-16 19:40:00.00000086</td>\n",
              "      <td>5.7</td>\n",
              "      <td>2010-11-16 19:40:00 UTC</td>\n",
              "      <td>-74.000552</td>\n",
              "      <td>40.727492</td>\n",
              "      <td>-74.005037</td>\n",
              "      <td>40.719123</td>\n",
              "      <td>1</td>\n",
              "    </tr>\n",
              "    <tr>\n",
              "      <th>1</th>\n",
              "      <td>1</td>\n",
              "      <td>2012-12-08 23:27:00.000000232</td>\n",
              "      <td>6.0</td>\n",
              "      <td>2012-12-08 23:27:00 UTC</td>\n",
              "      <td>-74.003502</td>\n",
              "      <td>40.738745</td>\n",
              "      <td>-73.993317</td>\n",
              "      <td>40.752022</td>\n",
              "      <td>3</td>\n",
              "    </tr>\n",
              "    <tr>\n",
              "      <th>2</th>\n",
              "      <td>2</td>\n",
              "      <td>2013-04-18 20:48:24.0000004</td>\n",
              "      <td>7.0</td>\n",
              "      <td>2013-04-18 20:48:24 UTC</td>\n",
              "      <td>-73.995001</td>\n",
              "      <td>40.760205</td>\n",
              "      <td>-73.986058</td>\n",
              "      <td>40.778839</td>\n",
              "      <td>1</td>\n",
              "    </tr>\n",
              "    <tr>\n",
              "      <th>3</th>\n",
              "      <td>3</td>\n",
              "      <td>2013-06-18 13:18:00.00000092</td>\n",
              "      <td>5.5</td>\n",
              "      <td>2013-06-18 13:18:00 UTC</td>\n",
              "      <td>-73.978285</td>\n",
              "      <td>40.737182</td>\n",
              "      <td>-73.970902</td>\n",
              "      <td>40.747240</td>\n",
              "      <td>2</td>\n",
              "    </tr>\n",
              "    <tr>\n",
              "      <th>4</th>\n",
              "      <td>4</td>\n",
              "      <td>2010-09-19 20:54:57.0000003</td>\n",
              "      <td>4.5</td>\n",
              "      <td>2010-09-19 20:54:57 UTC</td>\n",
              "      <td>-73.983178</td>\n",
              "      <td>40.767873</td>\n",
              "      <td>-73.979043</td>\n",
              "      <td>40.776613</td>\n",
              "      <td>4</td>\n",
              "    </tr>\n",
              "  </tbody>\n",
              "</table>\n",
              "</div>"
            ],
            "text/plain": [
              "   Unnamed: 0                            key  ...  dropoff_latitude passenger_count\n",
              "0           0   2010-11-16 19:40:00.00000086  ...         40.719123               1\n",
              "1           1  2012-12-08 23:27:00.000000232  ...         40.752022               3\n",
              "2           2    2013-04-18 20:48:24.0000004  ...         40.778839               1\n",
              "3           3   2013-06-18 13:18:00.00000092  ...         40.747240               2\n",
              "4           4    2010-09-19 20:54:57.0000003  ...         40.776613               4\n",
              "\n",
              "[5 rows x 9 columns]"
            ]
          },
          "metadata": {
            "tags": []
          },
          "execution_count": 5
        }
      ]
    },
    {
      "cell_type": "code",
      "metadata": {
        "id": "dQ-uLUSBNQxA"
      },
      "source": [
        "#dropping null values\n",
        "train = train.dropna(how='any', axis=0)"
      ],
      "execution_count": 6,
      "outputs": []
    },
    {
      "cell_type": "code",
      "metadata": {
        "colab": {
          "resources": {
            "http://localhost:8080/nbextensions/google.colab/files.js": {
              "data": "Ly8gQ29weXJpZ2h0IDIwMTcgR29vZ2xlIExMQwovLwovLyBMaWNlbnNlZCB1bmRlciB0aGUgQXBhY2hlIExpY2Vuc2UsIFZlcnNpb24gMi4wICh0aGUgIkxpY2Vuc2UiKTsKLy8geW91IG1heSBub3QgdXNlIHRoaXMgZmlsZSBleGNlcHQgaW4gY29tcGxpYW5jZSB3aXRoIHRoZSBMaWNlbnNlLgovLyBZb3UgbWF5IG9idGFpbiBhIGNvcHkgb2YgdGhlIExpY2Vuc2UgYXQKLy8KLy8gICAgICBodHRwOi8vd3d3LmFwYWNoZS5vcmcvbGljZW5zZXMvTElDRU5TRS0yLjAKLy8KLy8gVW5sZXNzIHJlcXVpcmVkIGJ5IGFwcGxpY2FibGUgbGF3IG9yIGFncmVlZCB0byBpbiB3cml0aW5nLCBzb2Z0d2FyZQovLyBkaXN0cmlidXRlZCB1bmRlciB0aGUgTGljZW5zZSBpcyBkaXN0cmlidXRlZCBvbiBhbiAiQVMgSVMiIEJBU0lTLAovLyBXSVRIT1VUIFdBUlJBTlRJRVMgT1IgQ09ORElUSU9OUyBPRiBBTlkgS0lORCwgZWl0aGVyIGV4cHJlc3Mgb3IgaW1wbGllZC4KLy8gU2VlIHRoZSBMaWNlbnNlIGZvciB0aGUgc3BlY2lmaWMgbGFuZ3VhZ2UgZ292ZXJuaW5nIHBlcm1pc3Npb25zIGFuZAovLyBsaW1pdGF0aW9ucyB1bmRlciB0aGUgTGljZW5zZS4KCi8qKgogKiBAZmlsZW92ZXJ2aWV3IEhlbHBlcnMgZm9yIGdvb2dsZS5jb2xhYiBQeXRob24gbW9kdWxlLgogKi8KKGZ1bmN0aW9uKHNjb3BlKSB7CmZ1bmN0aW9uIHNwYW4odGV4dCwgc3R5bGVBdHRyaWJ1dGVzID0ge30pIHsKICBjb25zdCBlbGVtZW50ID0gZG9jdW1lbnQuY3JlYXRlRWxlbWVudCgnc3BhbicpOwogIGVsZW1lbnQudGV4dENvbnRlbnQgPSB0ZXh0OwogIGZvciAoY29uc3Qga2V5IG9mIE9iamVjdC5rZXlzKHN0eWxlQXR0cmlidXRlcykpIHsKICAgIGVsZW1lbnQuc3R5bGVba2V5XSA9IHN0eWxlQXR0cmlidXRlc1trZXldOwogIH0KICByZXR1cm4gZWxlbWVudDsKfQoKLy8gTWF4IG51bWJlciBvZiBieXRlcyB3aGljaCB3aWxsIGJlIHVwbG9hZGVkIGF0IGEgdGltZS4KY29uc3QgTUFYX1BBWUxPQURfU0laRSA9IDEwMCAqIDEwMjQ7CgpmdW5jdGlvbiBfdXBsb2FkRmlsZXMoaW5wdXRJZCwgb3V0cHV0SWQpIHsKICBjb25zdCBzdGVwcyA9IHVwbG9hZEZpbGVzU3RlcChpbnB1dElkLCBvdXRwdXRJZCk7CiAgY29uc3Qgb3V0cHV0RWxlbWVudCA9IGRvY3VtZW50LmdldEVsZW1lbnRCeUlkKG91dHB1dElkKTsKICAvLyBDYWNoZSBzdGVwcyBvbiB0aGUgb3V0cHV0RWxlbWVudCB0byBtYWtlIGl0IGF2YWlsYWJsZSBmb3IgdGhlIG5leHQgY2FsbAogIC8vIHRvIHVwbG9hZEZpbGVzQ29udGludWUgZnJvbSBQeXRob24uCiAgb3V0cHV0RWxlbWVudC5zdGVwcyA9IHN0ZXBzOwoKICByZXR1cm4gX3VwbG9hZEZpbGVzQ29udGludWUob3V0cHV0SWQpOwp9CgovLyBUaGlzIGlzIHJvdWdobHkgYW4gYXN5bmMgZ2VuZXJhdG9yIChub3Qgc3VwcG9ydGVkIGluIHRoZSBicm93c2VyIHlldCksCi8vIHdoZXJlIHRoZXJlIGFyZSBtdWx0aXBsZSBhc3luY2hyb25vdXMgc3RlcHMgYW5kIHRoZSBQeXRob24gc2lkZSBpcyBnb2luZwovLyB0byBwb2xsIGZvciBjb21wbGV0aW9uIG9mIGVhY2ggc3RlcC4KLy8gVGhpcyB1c2VzIGEgUHJvbWlzZSB0byBibG9jayB0aGUgcHl0aG9uIHNpZGUgb24gY29tcGxldGlvbiBvZiBlYWNoIHN0ZXAsCi8vIHRoZW4gcGFzc2VzIHRoZSByZXN1bHQgb2YgdGhlIHByZXZpb3VzIHN0ZXAgYXMgdGhlIGlucHV0IHRvIHRoZSBuZXh0IHN0ZXAuCmZ1bmN0aW9uIF91cGxvYWRGaWxlc0NvbnRpbnVlKG91dHB1dElkKSB7CiAgY29uc3Qgb3V0cHV0RWxlbWVudCA9IGRvY3VtZW50LmdldEVsZW1lbnRCeUlkKG91dHB1dElkKTsKICBjb25zdCBzdGVwcyA9IG91dHB1dEVsZW1lbnQuc3RlcHM7CgogIGNvbnN0IG5leHQgPSBzdGVwcy5uZXh0KG91dHB1dEVsZW1lbnQubGFzdFByb21pc2VWYWx1ZSk7CiAgcmV0dXJuIFByb21pc2UucmVzb2x2ZShuZXh0LnZhbHVlLnByb21pc2UpLnRoZW4oKHZhbHVlKSA9PiB7CiAgICAvLyBDYWNoZSB0aGUgbGFzdCBwcm9taXNlIHZhbHVlIHRvIG1ha2UgaXQgYXZhaWxhYmxlIHRvIHRoZSBuZXh0CiAgICAvLyBzdGVwIG9mIHRoZSBnZW5lcmF0b3IuCiAgICBvdXRwdXRFbGVtZW50Lmxhc3RQcm9taXNlVmFsdWUgPSB2YWx1ZTsKICAgIHJldHVybiBuZXh0LnZhbHVlLnJlc3BvbnNlOwogIH0pOwp9CgovKioKICogR2VuZXJhdG9yIGZ1bmN0aW9uIHdoaWNoIGlzIGNhbGxlZCBiZXR3ZWVuIGVhY2ggYXN5bmMgc3RlcCBvZiB0aGUgdXBsb2FkCiAqIHByb2Nlc3MuCiAqIEBwYXJhbSB7c3RyaW5nfSBpbnB1dElkIEVsZW1lbnQgSUQgb2YgdGhlIGlucHV0IGZpbGUgcGlja2VyIGVsZW1lbnQuCiAqIEBwYXJhbSB7c3RyaW5nfSBvdXRwdXRJZCBFbGVtZW50IElEIG9mIHRoZSBvdXRwdXQgZGlzcGxheS4KICogQHJldHVybiB7IUl0ZXJhYmxlPCFPYmplY3Q+fSBJdGVyYWJsZSBvZiBuZXh0IHN0ZXBzLgogKi8KZnVuY3Rpb24qIHVwbG9hZEZpbGVzU3RlcChpbnB1dElkLCBvdXRwdXRJZCkgewogIGNvbnN0IGlucHV0RWxlbWVudCA9IGRvY3VtZW50LmdldEVsZW1lbnRCeUlkKGlucHV0SWQpOwogIGlucHV0RWxlbWVudC5kaXNhYmxlZCA9IGZhbHNlOwoKICBjb25zdCBvdXRwdXRFbGVtZW50ID0gZG9jdW1lbnQuZ2V0RWxlbWVudEJ5SWQob3V0cHV0SWQpOwogIG91dHB1dEVsZW1lbnQuaW5uZXJIVE1MID0gJyc7CgogIGNvbnN0IHBpY2tlZFByb21pc2UgPSBuZXcgUHJvbWlzZSgocmVzb2x2ZSkgPT4gewogICAgaW5wdXRFbGVtZW50LmFkZEV2ZW50TGlzdGVuZXIoJ2NoYW5nZScsIChlKSA9PiB7CiAgICAgIHJlc29sdmUoZS50YXJnZXQuZmlsZXMpOwogICAgfSk7CiAgfSk7CgogIGNvbnN0IGNhbmNlbCA9IGRvY3VtZW50LmNyZWF0ZUVsZW1lbnQoJ2J1dHRvbicpOwogIGlucHV0RWxlbWVudC5wYXJlbnRFbGVtZW50LmFwcGVuZENoaWxkKGNhbmNlbCk7CiAgY2FuY2VsLnRleHRDb250ZW50ID0gJ0NhbmNlbCB1cGxvYWQnOwogIGNvbnN0IGNhbmNlbFByb21pc2UgPSBuZXcgUHJvbWlzZSgocmVzb2x2ZSkgPT4gewogICAgY2FuY2VsLm9uY2xpY2sgPSAoKSA9PiB7CiAgICAgIHJlc29sdmUobnVsbCk7CiAgICB9OwogIH0pOwoKICAvLyBXYWl0IGZvciB0aGUgdXNlciB0byBwaWNrIHRoZSBmaWxlcy4KICBjb25zdCBmaWxlcyA9IHlpZWxkIHsKICAgIHByb21pc2U6IFByb21pc2UucmFjZShbcGlja2VkUHJvbWlzZSwgY2FuY2VsUHJvbWlzZV0pLAogICAgcmVzcG9uc2U6IHsKICAgICAgYWN0aW9uOiAnc3RhcnRpbmcnLAogICAgfQogIH07CgogIGNhbmNlbC5yZW1vdmUoKTsKCiAgLy8gRGlzYWJsZSB0aGUgaW5wdXQgZWxlbWVudCBzaW5jZSBmdXJ0aGVyIHBpY2tzIGFyZSBub3QgYWxsb3dlZC4KICBpbnB1dEVsZW1lbnQuZGlzYWJsZWQgPSB0cnVlOwoKICBpZiAoIWZpbGVzKSB7CiAgICByZXR1cm4gewogICAgICByZXNwb25zZTogewogICAgICAgIGFjdGlvbjogJ2NvbXBsZXRlJywKICAgICAgfQogICAgfTsKICB9CgogIGZvciAoY29uc3QgZmlsZSBvZiBmaWxlcykgewogICAgY29uc3QgbGkgPSBkb2N1bWVudC5jcmVhdGVFbGVtZW50KCdsaScpOwogICAgbGkuYXBwZW5kKHNwYW4oZmlsZS5uYW1lLCB7Zm9udFdlaWdodDogJ2JvbGQnfSkpOwogICAgbGkuYXBwZW5kKHNwYW4oCiAgICAgICAgYCgke2ZpbGUudHlwZSB8fCAnbi9hJ30pIC0gJHtmaWxlLnNpemV9IGJ5dGVzLCBgICsKICAgICAgICBgbGFzdCBtb2RpZmllZDogJHsKICAgICAgICAgICAgZmlsZS5sYXN0TW9kaWZpZWREYXRlID8gZmlsZS5sYXN0TW9kaWZpZWREYXRlLnRvTG9jYWxlRGF0ZVN0cmluZygpIDoKICAgICAgICAgICAgICAgICAgICAgICAgICAgICAgICAgICAgJ24vYSd9IC0gYCkpOwogICAgY29uc3QgcGVyY2VudCA9IHNwYW4oJzAlIGRvbmUnKTsKICAgIGxpLmFwcGVuZENoaWxkKHBlcmNlbnQpOwoKICAgIG91dHB1dEVsZW1lbnQuYXBwZW5kQ2hpbGQobGkpOwoKICAgIGNvbnN0IGZpbGVEYXRhUHJvbWlzZSA9IG5ldyBQcm9taXNlKChyZXNvbHZlKSA9PiB7CiAgICAgIGNvbnN0IHJlYWRlciA9IG5ldyBGaWxlUmVhZGVyKCk7CiAgICAgIHJlYWRlci5vbmxvYWQgPSAoZSkgPT4gewogICAgICAgIHJlc29sdmUoZS50YXJnZXQucmVzdWx0KTsKICAgICAgfTsKICAgICAgcmVhZGVyLnJlYWRBc0FycmF5QnVmZmVyKGZpbGUpOwogICAgfSk7CiAgICAvLyBXYWl0IGZvciB0aGUgZGF0YSB0byBiZSByZWFkeS4KICAgIGxldCBmaWxlRGF0YSA9IHlpZWxkIHsKICAgICAgcHJvbWlzZTogZmlsZURhdGFQcm9taXNlLAogICAgICByZXNwb25zZTogewogICAgICAgIGFjdGlvbjogJ2NvbnRpbnVlJywKICAgICAgfQogICAgfTsKCiAgICAvLyBVc2UgYSBjaHVua2VkIHNlbmRpbmcgdG8gYXZvaWQgbWVzc2FnZSBzaXplIGxpbWl0cy4gU2VlIGIvNjIxMTU2NjAuCiAgICBsZXQgcG9zaXRpb24gPSAwOwogICAgd2hpbGUgKHBvc2l0aW9uIDwgZmlsZURhdGEuYnl0ZUxlbmd0aCkgewogICAgICBjb25zdCBsZW5ndGggPSBNYXRoLm1pbihmaWxlRGF0YS5ieXRlTGVuZ3RoIC0gcG9zaXRpb24sIE1BWF9QQVlMT0FEX1NJWkUpOwogICAgICBjb25zdCBjaHVuayA9IG5ldyBVaW50OEFycmF5KGZpbGVEYXRhLCBwb3NpdGlvbiwgbGVuZ3RoKTsKICAgICAgcG9zaXRpb24gKz0gbGVuZ3RoOwoKICAgICAgY29uc3QgYmFzZTY0ID0gYnRvYShTdHJpbmcuZnJvbUNoYXJDb2RlLmFwcGx5KG51bGwsIGNodW5rKSk7CiAgICAgIHlpZWxkIHsKICAgICAgICByZXNwb25zZTogewogICAgICAgICAgYWN0aW9uOiAnYXBwZW5kJywKICAgICAgICAgIGZpbGU6IGZpbGUubmFtZSwKICAgICAgICAgIGRhdGE6IGJhc2U2NCwKICAgICAgICB9LAogICAgICB9OwogICAgICBwZXJjZW50LnRleHRDb250ZW50ID0KICAgICAgICAgIGAke01hdGgucm91bmQoKHBvc2l0aW9uIC8gZmlsZURhdGEuYnl0ZUxlbmd0aCkgKiAxMDApfSUgZG9uZWA7CiAgICB9CiAgfQoKICAvLyBBbGwgZG9uZS4KICB5aWVsZCB7CiAgICByZXNwb25zZTogewogICAgICBhY3Rpb246ICdjb21wbGV0ZScsCiAgICB9CiAgfTsKfQoKc2NvcGUuZ29vZ2xlID0gc2NvcGUuZ29vZ2xlIHx8IHt9OwpzY29wZS5nb29nbGUuY29sYWIgPSBzY29wZS5nb29nbGUuY29sYWIgfHwge307CnNjb3BlLmdvb2dsZS5jb2xhYi5fZmlsZXMgPSB7CiAgX3VwbG9hZEZpbGVzLAogIF91cGxvYWRGaWxlc0NvbnRpbnVlLAp9Owp9KShzZWxmKTsK",
              "ok": true,
              "headers": [
                [
                  "content-type",
                  "application/javascript"
                ]
              ],
              "status": 200,
              "status_text": "OK"
            }
          },
          "base_uri": "https://localhost:8080/",
          "height": 264
        },
        "id": "_o7SOZ-ANeSM",
        "outputId": "b56c867b-ff3c-4cfa-b7e2-29a416bc0fff"
      },
      "source": [
        "#uploading test data\n",
        "uploaded = files.upload()\n",
        "test = pd.read_csv(io.BytesIO(uploaded['test.csv']))\n",
        "test.head()"
      ],
      "execution_count": 9,
      "outputs": [
        {
          "output_type": "display_data",
          "data": {
            "text/html": [
              "\n",
              "     <input type=\"file\" id=\"files-0462387d-06e1-4a03-b044-bc03e6544ba5\" name=\"files[]\" multiple disabled\n",
              "        style=\"border:none\" />\n",
              "     <output id=\"result-0462387d-06e1-4a03-b044-bc03e6544ba5\">\n",
              "      Upload widget is only available when the cell has been executed in the\n",
              "      current browser session. Please rerun this cell to enable.\n",
              "      </output>\n",
              "      <script src=\"/nbextensions/google.colab/files.js\"></script> "
            ],
            "text/plain": [
              "<IPython.core.display.HTML object>"
            ]
          },
          "metadata": {
            "tags": []
          }
        },
        {
          "output_type": "stream",
          "text": [
            "Saving test.csv to test.csv\n"
          ],
          "name": "stdout"
        },
        {
          "output_type": "execute_result",
          "data": {
            "text/html": [
              "<div>\n",
              "<style scoped>\n",
              "    .dataframe tbody tr th:only-of-type {\n",
              "        vertical-align: middle;\n",
              "    }\n",
              "\n",
              "    .dataframe tbody tr th {\n",
              "        vertical-align: top;\n",
              "    }\n",
              "\n",
              "    .dataframe thead th {\n",
              "        text-align: right;\n",
              "    }\n",
              "</style>\n",
              "<table border=\"1\" class=\"dataframe\">\n",
              "  <thead>\n",
              "    <tr style=\"text-align: right;\">\n",
              "      <th></th>\n",
              "      <th>key</th>\n",
              "      <th>pickup_datetime</th>\n",
              "      <th>pickup_longitude</th>\n",
              "      <th>pickup_latitude</th>\n",
              "      <th>dropoff_longitude</th>\n",
              "      <th>dropoff_latitude</th>\n",
              "      <th>passenger_count</th>\n",
              "    </tr>\n",
              "  </thead>\n",
              "  <tbody>\n",
              "    <tr>\n",
              "      <th>0</th>\n",
              "      <td>2015-01-27 13:08:24.0000002</td>\n",
              "      <td>2015-01-27 13:08:24 UTC</td>\n",
              "      <td>-73.973320</td>\n",
              "      <td>40.763805</td>\n",
              "      <td>-73.981430</td>\n",
              "      <td>40.743835</td>\n",
              "      <td>1</td>\n",
              "    </tr>\n",
              "    <tr>\n",
              "      <th>1</th>\n",
              "      <td>2015-01-27 13:08:24.0000003</td>\n",
              "      <td>2015-01-27 13:08:24 UTC</td>\n",
              "      <td>-73.986862</td>\n",
              "      <td>40.719383</td>\n",
              "      <td>-73.998886</td>\n",
              "      <td>40.739201</td>\n",
              "      <td>1</td>\n",
              "    </tr>\n",
              "    <tr>\n",
              "      <th>2</th>\n",
              "      <td>2011-10-08 11:53:44.0000002</td>\n",
              "      <td>2011-10-08 11:53:44 UTC</td>\n",
              "      <td>-73.982524</td>\n",
              "      <td>40.751260</td>\n",
              "      <td>-73.979654</td>\n",
              "      <td>40.746139</td>\n",
              "      <td>1</td>\n",
              "    </tr>\n",
              "    <tr>\n",
              "      <th>3</th>\n",
              "      <td>2012-12-01 21:12:12.0000002</td>\n",
              "      <td>2012-12-01 21:12:12 UTC</td>\n",
              "      <td>-73.981160</td>\n",
              "      <td>40.767807</td>\n",
              "      <td>-73.990448</td>\n",
              "      <td>40.751635</td>\n",
              "      <td>1</td>\n",
              "    </tr>\n",
              "    <tr>\n",
              "      <th>4</th>\n",
              "      <td>2012-12-01 21:12:12.0000003</td>\n",
              "      <td>2012-12-01 21:12:12 UTC</td>\n",
              "      <td>-73.966046</td>\n",
              "      <td>40.789775</td>\n",
              "      <td>-73.988565</td>\n",
              "      <td>40.744427</td>\n",
              "      <td>1</td>\n",
              "    </tr>\n",
              "  </tbody>\n",
              "</table>\n",
              "</div>"
            ],
            "text/plain": [
              "                           key  ... passenger_count\n",
              "0  2015-01-27 13:08:24.0000002  ...               1\n",
              "1  2015-01-27 13:08:24.0000003  ...               1\n",
              "2  2011-10-08 11:53:44.0000002  ...               1\n",
              "3  2012-12-01 21:12:12.0000002  ...               1\n",
              "4  2012-12-01 21:12:12.0000003  ...               1\n",
              "\n",
              "[5 rows x 7 columns]"
            ]
          },
          "metadata": {
            "tags": []
          },
          "execution_count": 9
        }
      ]
    },
    {
      "cell_type": "code",
      "metadata": {
        "colab": {
          "base_uri": "https://localhost:8080/"
        },
        "id": "lz84V7rZONbm",
        "outputId": "19500cd1-3e67-4876-ed95-eb39975ba5a6"
      },
      "source": [
        "# this function will also be used with the test set below\n",
        "def select_within_test_boundary(df, BB):\n",
        "    return (df.pickup_longitude >= BB[0]) & (df.pickup_longitude <= BB[1]) & \\\n",
        "           (df.pickup_latitude >= BB[2]) & (df.pickup_latitude <= BB[3]) & \\\n",
        "           (df.dropoff_longitude >= BB[0]) & (df.dropoff_longitude <= BB[1]) & \\\n",
        "           (df.dropoff_latitude >= BB[2]) & (df.dropoff_latitude <= BB[3])\n",
        "\n",
        "BB = (-74.5, -72.8, 40.5, 41.8)\n",
        "print('Old size: %d' % len(train))\n",
        "train = train[select_within_test_boundary(train, BB)]\n",
        "print('New size: %d' % len(train))"
      ],
      "execution_count": 13,
      "outputs": [
        {
          "output_type": "stream",
          "text": [
            "Old size: 100000\n",
            "New size: 97889\n"
          ],
          "name": "stdout"
        }
      ]
    },
    {
      "cell_type": "markdown",
      "metadata": {
        "id": "pV-X5hGgOdRx"
      },
      "source": [
        "## **Feature engineering**"
      ]
    },
    {
      "cell_type": "code",
      "metadata": {
        "id": "rTGQmWwiOY9Y"
      },
      "source": [
        "def prepare_time_features(df):\n",
        "    df['pickup_datetime'] = df['pickup_datetime'].str.slice(0, 16)\n",
        "    df['pickup_datetime'] = pd.to_datetime(df['pickup_datetime'], utc=True, format='%Y-%m-%d %H:%M')\n",
        "    df['hour_of_day'] = df.pickup_datetime.dt.hour\n",
        "    df['month'] = df.pickup_datetime.dt.month\n",
        "    df[\"year\"] = df.pickup_datetime.dt.year\n",
        "    df[\"weekday\"] = df.pickup_datetime.dt.weekday\n",
        "    \n",
        "    return df"
      ],
      "execution_count": 14,
      "outputs": []
    },
    {
      "cell_type": "code",
      "metadata": {
        "id": "VxqJv-27OmYc"
      },
      "source": [
        "train = prepare_time_features(train)\n",
        "test = prepare_time_features(test)"
      ],
      "execution_count": 15,
      "outputs": []
    },
    {
      "cell_type": "markdown",
      "metadata": {
        "id": "RrYq7bYpOwah"
      },
      "source": [
        "### Function to get haversine distance"
      ]
    },
    {
      "cell_type": "code",
      "metadata": {
        "id": "31SEb06ZOort"
      },
      "source": [
        "#function to calculate haversine distance\n",
        "def distance(lat1, lon1, lat2, lon2):\n",
        "    p = 0.017453292519943295 # Pi/180\n",
        "    a = 0.5 - np.cos((lat2 - lat1) * p)/2 + np.cos(lat1 * p) * np.cos(lat2 * p) * (1 - np.cos((lon2 - lon1) * p)) / 2\n",
        "    return 0.6213712 * 12742 * np.arcsin(np.sqrt(a))"
      ],
      "execution_count": 20,
      "outputs": []
    },
    {
      "cell_type": "code",
      "metadata": {
        "id": "7Dm_piGaO4bp"
      },
      "source": [
        "train['distance_miles'] = distance(train.pickup_latitude, train.pickup_longitude, \\\n",
        "                                      train.dropoff_latitude, train.dropoff_longitude)\n",
        "test['distance_miles'] = distance(test.pickup_latitude, test.pickup_longitude, \\\n",
        "                                      test.dropoff_latitude, test.dropoff_longitude)\n"
      ],
      "execution_count": 21,
      "outputs": []
    },
    {
      "cell_type": "markdown",
      "metadata": {
        "id": "l21sQM5pP6Rm"
      },
      "source": [
        "Calculating pickup and drop distances"
      ]
    },
    {
      "cell_type": "code",
      "metadata": {
        "id": "DhL3212xPKlc"
      },
      "source": [
        "def transform(data):\n",
        "    # Distances to nearby airports, \n",
        "    jfk = (-73.7781, 40.6413)\n",
        "    ewr = (-74.1745, 40.6895)\n",
        "    lgr = (-73.8740, 40.7769)\n",
        "\n",
        "    data['pickup_distance_to_jfk'] = distance(jfk[1], jfk[0],\n",
        "                                         data['pickup_latitude'], data['pickup_longitude'])\n",
        "    data['dropoff_distance_to_jfk'] = distance(jfk[1], jfk[0],\n",
        "                                           data['dropoff_latitude'], data['dropoff_longitude'])\n",
        "    data['pickup_distance_to_ewr'] = distance(ewr[1], ewr[0], \n",
        "                                          data['pickup_latitude'], data['pickup_longitude'])\n",
        "    data['dropoff_distance_to_ewr'] = distance(ewr[1], ewr[0],\n",
        "                                           data['dropoff_latitude'], data['dropoff_longitude'])\n",
        "    data['pickup_distance_to_lgr'] = distance(lgr[1], lgr[0],\n",
        "                                          data['pickup_latitude'], data['pickup_longitude'])\n",
        "    data['dropoff_distance_to_lgr'] = distance(lgr[1], lgr[0],\n",
        "                                           data['dropoff_latitude'], data['dropoff_longitude'])\n",
        "    \n",
        "    return data\n",
        "\n",
        "train = transform(train)\n",
        "test = transform(test)"
      ],
      "execution_count": 22,
      "outputs": []
    },
    {
      "cell_type": "code",
      "metadata": {
        "colab": {
          "base_uri": "https://localhost:8080/",
          "height": 135
        },
        "id": "L4djGrm_P85i",
        "outputId": "73d7b8fd-ac52-463c-c1fe-d47fc08c6a00"
      },
      "source": [
        "train[(train['distance_miles']==0)&(train['fare_amount']==0)]"
      ],
      "execution_count": 25,
      "outputs": [
        {
          "output_type": "execute_result",
          "data": {
            "text/html": [
              "<div>\n",
              "<style scoped>\n",
              "    .dataframe tbody tr th:only-of-type {\n",
              "        vertical-align: middle;\n",
              "    }\n",
              "\n",
              "    .dataframe tbody tr th {\n",
              "        vertical-align: top;\n",
              "    }\n",
              "\n",
              "    .dataframe thead th {\n",
              "        text-align: right;\n",
              "    }\n",
              "</style>\n",
              "<table border=\"1\" class=\"dataframe\">\n",
              "  <thead>\n",
              "    <tr style=\"text-align: right;\">\n",
              "      <th></th>\n",
              "      <th>Unnamed: 0</th>\n",
              "      <th>key</th>\n",
              "      <th>fare_amount</th>\n",
              "      <th>pickup_datetime</th>\n",
              "      <th>pickup_longitude</th>\n",
              "      <th>pickup_latitude</th>\n",
              "      <th>dropoff_longitude</th>\n",
              "      <th>dropoff_latitude</th>\n",
              "      <th>passenger_count</th>\n",
              "      <th>hour_of_day</th>\n",
              "      <th>month</th>\n",
              "      <th>year</th>\n",
              "      <th>weekday</th>\n",
              "      <th>distance_miles</th>\n",
              "      <th>pickup_distance_to_jfk</th>\n",
              "      <th>dropoff_distance_to_jfk</th>\n",
              "      <th>pickup_distance_to_ewr</th>\n",
              "      <th>dropoff_distance_to_ewr</th>\n",
              "      <th>pickup_distance_to_lgr</th>\n",
              "      <th>dropoff_distance_to_lgr</th>\n",
              "    </tr>\n",
              "  </thead>\n",
              "  <tbody>\n",
              "    <tr>\n",
              "      <th>36089</th>\n",
              "      <td>36089</td>\n",
              "      <td>2015-02-21 11:59:26.0000002</td>\n",
              "      <td>0.0</td>\n",
              "      <td>2015-02-21 11:59:00+00:00</td>\n",
              "      <td>-73.93763</td>\n",
              "      <td>40.758221</td>\n",
              "      <td>-73.93763</td>\n",
              "      <td>40.758221</td>\n",
              "      <td>1</td>\n",
              "      <td>11</td>\n",
              "      <td>2</td>\n",
              "      <td>2015</td>\n",
              "      <td>5</td>\n",
              "      <td>0.0</td>\n",
              "      <td>11.622928</td>\n",
              "      <td>11.622928</td>\n",
              "      <td>13.281059</td>\n",
              "      <td>13.281059</td>\n",
              "      <td>3.571049</td>\n",
              "      <td>3.571049</td>\n",
              "    </tr>\n",
              "  </tbody>\n",
              "</table>\n",
              "</div>"
            ],
            "text/plain": [
              "       Unnamed: 0  ... dropoff_distance_to_lgr\n",
              "36089       36089  ...                3.571049\n",
              "\n",
              "[1 rows x 20 columns]"
            ]
          },
          "metadata": {
            "tags": []
          },
          "execution_count": 25
        }
      ]
    },
    {
      "cell_type": "code",
      "metadata": {
        "id": "Cr3MPrZnQCQr"
      },
      "source": [
        "#dropping an instance of train where distance is zero and fare amount is zero\n",
        "train = train.drop(index= train[(train['distance_miles']==0)&(train['fare_amount']==0)].index, axis=0)"
      ],
      "execution_count": 26,
      "outputs": []
    },
    {
      "cell_type": "code",
      "metadata": {
        "id": "SRW8K9TLQHnB"
      },
      "source": [
        "#dropping an instance of train where the fare amount is 0\n",
        "train = train.drop(index= train[train['fare_amount']==0].index, axis=0)"
      ],
      "execution_count": 28,
      "outputs": []
    },
    {
      "cell_type": "code",
      "metadata": {
        "colab": {
          "base_uri": "https://localhost:8080/"
        },
        "id": "v0fMgTJMQM18",
        "outputId": "525d4f01-e10d-463b-f231-28b04bd22050"
      },
      "source": [
        "train[train['fare_amount'] < 2.5].shape"
      ],
      "execution_count": 29,
      "outputs": [
        {
          "output_type": "execute_result",
          "data": {
            "text/plain": [
              "(9, 20)"
            ]
          },
          "metadata": {
            "tags": []
          },
          "execution_count": 29
        }
      ]
    },
    {
      "cell_type": "code",
      "metadata": {
        "colab": {
          "base_uri": "https://localhost:8080/"
        },
        "id": "5n9NZP4RQco6",
        "outputId": "29f28ecd-41d3-4c60-ccef-42511d650ad1"
      },
      "source": [
        "#dropping the rows where the fare is less that 2.5\n",
        "print(\"old size: %d\" % len(train))\n",
        "train = train.drop(index= train[train['fare_amount'] < 2.5].index, axis=0)\n",
        "print(\"New size: %d\" % len(train))"
      ],
      "execution_count": 30,
      "outputs": [
        {
          "output_type": "stream",
          "text": [
            "old size: 97887\n",
            "New size: 97878\n"
          ],
          "name": "stdout"
        }
      ]
    },
    {
      "cell_type": "code",
      "metadata": {
        "colab": {
          "base_uri": "https://localhost:8080/",
          "height": 87
        },
        "id": "FgPSxbXeQerv",
        "outputId": "a5195683-51a8-490b-df94-0b43f001d6df"
      },
      "source": [
        "#as there are no records for passenger_count > 7, we can ignore this case\n",
        "train[train.passenger_count >= 7]"
      ],
      "execution_count": 31,
      "outputs": [
        {
          "output_type": "execute_result",
          "data": {
            "text/html": [
              "<div>\n",
              "<style scoped>\n",
              "    .dataframe tbody tr th:only-of-type {\n",
              "        vertical-align: middle;\n",
              "    }\n",
              "\n",
              "    .dataframe tbody tr th {\n",
              "        vertical-align: top;\n",
              "    }\n",
              "\n",
              "    .dataframe thead th {\n",
              "        text-align: right;\n",
              "    }\n",
              "</style>\n",
              "<table border=\"1\" class=\"dataframe\">\n",
              "  <thead>\n",
              "    <tr style=\"text-align: right;\">\n",
              "      <th></th>\n",
              "      <th>Unnamed: 0</th>\n",
              "      <th>key</th>\n",
              "      <th>fare_amount</th>\n",
              "      <th>pickup_datetime</th>\n",
              "      <th>pickup_longitude</th>\n",
              "      <th>pickup_latitude</th>\n",
              "      <th>dropoff_longitude</th>\n",
              "      <th>dropoff_latitude</th>\n",
              "      <th>passenger_count</th>\n",
              "      <th>hour_of_day</th>\n",
              "      <th>month</th>\n",
              "      <th>year</th>\n",
              "      <th>weekday</th>\n",
              "      <th>distance_miles</th>\n",
              "      <th>pickup_distance_to_jfk</th>\n",
              "      <th>dropoff_distance_to_jfk</th>\n",
              "      <th>pickup_distance_to_ewr</th>\n",
              "      <th>dropoff_distance_to_ewr</th>\n",
              "      <th>pickup_distance_to_lgr</th>\n",
              "      <th>dropoff_distance_to_lgr</th>\n",
              "    </tr>\n",
              "  </thead>\n",
              "  <tbody>\n",
              "  </tbody>\n",
              "</table>\n",
              "</div>"
            ],
            "text/plain": [
              "Empty DataFrame\n",
              "Columns: [Unnamed: 0, key, fare_amount, pickup_datetime, pickup_longitude, pickup_latitude, dropoff_longitude, dropoff_latitude, passenger_count, hour_of_day, month, year, weekday, distance_miles, pickup_distance_to_jfk, dropoff_distance_to_jfk, pickup_distance_to_ewr, dropoff_distance_to_ewr, pickup_distance_to_lgr, dropoff_distance_to_lgr]\n",
              "Index: []"
            ]
          },
          "metadata": {
            "tags": []
          },
          "execution_count": 31
        }
      ]
    },
    {
      "cell_type": "markdown",
      "metadata": {
        "id": "w3ytiItNRHm9"
      },
      "source": [
        "## **Test train split**"
      ]
    },
    {
      "cell_type": "code",
      "metadata": {
        "colab": {
          "base_uri": "https://localhost:8080/"
        },
        "id": "ArCoqvBoRHDj",
        "outputId": "8f11830d-0093-4391-dbbc-058706812f39"
      },
      "source": [
        "# create copy of the data set\n",
        "df_train = train.drop(columns= ['key','pickup_datetime'], axis= 1).copy()\n",
        "df_test = test.drop(columns= ['key','pickup_datetime'], axis= 1).copy()\n",
        "print(df_train.shape)\n",
        "print(df_test.shape)"
      ],
      "execution_count": 35,
      "outputs": [
        {
          "output_type": "stream",
          "text": [
            "(97878, 18)\n",
            "(9914, 16)\n"
          ],
          "name": "stdout"
        }
      ]
    },
    {
      "cell_type": "code",
      "metadata": {
        "colab": {
          "base_uri": "https://localhost:8080/"
        },
        "id": "W7Gib3TAQ_NP",
        "outputId": "0e1b1b60-9bcf-4000-b519-281078d13063"
      },
      "source": [
        "#test train split\n",
        "from sklearn.model_selection import train_test_split \n",
        "X_train, X_test, y_train, y_test = train_test_split(df_train.drop('fare_amount', axis=1),\n",
        "                                                    df_train['fare_amount'], test_size=0.2, random_state = 42)\n",
        "print(X_train.shape)\n",
        "print(X_test.shape)\n",
        "print(y_train.shape)\n",
        "print(y_test.shape)"
      ],
      "execution_count": 36,
      "outputs": [
        {
          "output_type": "stream",
          "text": [
            "(78302, 17)\n",
            "(19576, 17)\n",
            "(78302,)\n",
            "(19576,)\n"
          ],
          "name": "stdout"
        }
      ]
    },
    {
      "cell_type": "markdown",
      "metadata": {
        "id": "nBjIAxN2RWsA"
      },
      "source": [
        "## **XGBoost model**"
      ]
    },
    {
      "cell_type": "code",
      "metadata": {
        "id": "Jeq4la2yRU8Z"
      },
      "source": [
        "import xgboost as xgb"
      ],
      "execution_count": 37,
      "outputs": []
    },
    {
      "cell_type": "code",
      "metadata": {
        "id": "NSnsLzrsRaR_"
      },
      "source": [
        "#defining parameters for the XGBoost model\n",
        "params = {\n",
        "   \n",
        "    'max_depth': 7,\n",
        "    'gamma' :0,\n",
        "    'eta':.03, \n",
        "    'subsample': 1,\n",
        "    'colsample_bytree': 0.9, \n",
        "    'objective':'reg:linear',\n",
        "    'eval_metric':'rmse',\n",
        "    'silent': 0\n",
        "}"
      ],
      "execution_count": 38,
      "outputs": []
    },
    {
      "cell_type": "code",
      "metadata": {
        "colab": {
          "base_uri": "https://localhost:8080/"
        },
        "id": "FxHdky2jRcbA",
        "outputId": "fed02ac6-2984-4a2a-caa1-6a050cf4f997"
      },
      "source": [
        "def XGBmodel(X_train,X_test,y_train,y_test,params):\n",
        "    matrix_train = xgb.DMatrix(X_train,label=y_train)\n",
        "    matrix_test = xgb.DMatrix(X_test,label=y_test)\n",
        "    model=xgb.train(params=params,\n",
        "                    dtrain=matrix_train,num_boost_round=5000, \n",
        "                    early_stopping_rounds=10,evals=[(matrix_test,'test')])\n",
        "    return model\n",
        "\n",
        "model = XGBmodel(X_train,X_test,y_train,y_test,params)"
      ],
      "execution_count": 39,
      "outputs": [
        {
          "output_type": "stream",
          "text": [
            "[03:42:58] WARNING: /workspace/src/objective/regression_obj.cu:152: reg:linear is now deprecated in favor of reg:squarederror.\n",
            "[0]\ttest-rmse:14.1615\n",
            "Will train until test-rmse hasn't improved in 10 rounds.\n",
            "[1]\ttest-rmse:13.7703\n",
            "[2]\ttest-rmse:13.3912\n",
            "[3]\ttest-rmse:13.0487\n",
            "[4]\ttest-rmse:12.694\n",
            "[5]\ttest-rmse:12.3495\n",
            "[6]\ttest-rmse:12.0159\n",
            "[7]\ttest-rmse:11.6944\n",
            "[8]\ttest-rmse:11.382\n",
            "[9]\ttest-rmse:11.0808\n",
            "[10]\ttest-rmse:10.789\n",
            "[11]\ttest-rmse:10.5063\n",
            "[12]\ttest-rmse:10.2355\n",
            "[13]\ttest-rmse:9.97153\n",
            "[14]\ttest-rmse:9.73333\n",
            "[15]\ttest-rmse:9.48864\n",
            "[16]\ttest-rmse:9.25158\n",
            "[17]\ttest-rmse:9.02289\n",
            "[18]\ttest-rmse:8.80227\n",
            "[19]\ttest-rmse:8.58922\n",
            "[20]\ttest-rmse:8.38447\n",
            "[21]\ttest-rmse:8.18611\n",
            "[22]\ttest-rmse:7.99361\n",
            "[23]\ttest-rmse:7.81926\n",
            "[24]\ttest-rmse:7.64004\n",
            "[25]\ttest-rmse:7.47823\n",
            "[26]\ttest-rmse:7.31257\n",
            "[27]\ttest-rmse:7.15244\n",
            "[28]\ttest-rmse:6.9973\n",
            "[29]\ttest-rmse:6.84954\n",
            "[30]\ttest-rmse:6.70662\n",
            "[31]\ttest-rmse:6.57716\n",
            "[32]\ttest-rmse:6.44372\n",
            "[33]\ttest-rmse:6.31583\n",
            "[34]\ttest-rmse:6.19299\n",
            "[35]\ttest-rmse:6.07567\n",
            "[36]\ttest-rmse:5.96232\n",
            "[37]\ttest-rmse:5.85327\n",
            "[38]\ttest-rmse:5.74887\n",
            "[39]\ttest-rmse:5.65522\n",
            "[40]\ttest-rmse:5.5589\n",
            "[41]\ttest-rmse:5.46633\n",
            "[42]\ttest-rmse:5.37728\n",
            "[43]\ttest-rmse:5.29299\n",
            "[44]\ttest-rmse:5.21189\n",
            "[45]\ttest-rmse:5.1346\n",
            "[46]\ttest-rmse:5.06032\n",
            "[47]\ttest-rmse:4.98957\n",
            "[48]\ttest-rmse:4.92234\n",
            "[49]\ttest-rmse:4.86154\n",
            "[50]\ttest-rmse:4.79866\n",
            "[51]\ttest-rmse:4.73945\n",
            "[52]\ttest-rmse:4.68293\n",
            "[53]\ttest-rmse:4.62884\n",
            "[54]\ttest-rmse:4.57789\n",
            "[55]\ttest-rmse:4.52925\n",
            "[56]\ttest-rmse:4.48179\n",
            "[57]\ttest-rmse:4.44017\n",
            "[58]\ttest-rmse:4.39656\n",
            "[59]\ttest-rmse:4.35631\n",
            "[60]\ttest-rmse:4.31698\n",
            "[61]\ttest-rmse:4.28013\n",
            "[62]\ttest-rmse:4.24625\n",
            "[63]\ttest-rmse:4.21229\n",
            "[64]\ttest-rmse:4.1804\n",
            "[65]\ttest-rmse:4.15027\n",
            "[66]\ttest-rmse:4.12179\n",
            "[67]\ttest-rmse:4.09353\n",
            "[68]\ttest-rmse:4.06859\n",
            "[69]\ttest-rmse:4.04405\n",
            "[70]\ttest-rmse:4.02031\n",
            "[71]\ttest-rmse:3.99825\n",
            "[72]\ttest-rmse:3.97696\n",
            "[73]\ttest-rmse:3.95748\n",
            "[74]\ttest-rmse:3.93823\n",
            "[75]\ttest-rmse:3.91855\n",
            "[76]\ttest-rmse:3.90123\n",
            "[77]\ttest-rmse:3.88474\n",
            "[78]\ttest-rmse:3.86895\n",
            "[79]\ttest-rmse:3.85454\n",
            "[80]\ttest-rmse:3.84101\n",
            "[81]\ttest-rmse:3.82753\n",
            "[82]\ttest-rmse:3.81539\n",
            "[83]\ttest-rmse:3.80315\n",
            "[84]\ttest-rmse:3.79109\n",
            "[85]\ttest-rmse:3.77978\n",
            "[86]\ttest-rmse:3.76967\n",
            "[87]\ttest-rmse:3.75971\n",
            "[88]\ttest-rmse:3.75067\n",
            "[89]\ttest-rmse:3.74196\n",
            "[90]\ttest-rmse:3.73363\n",
            "[91]\ttest-rmse:3.72437\n",
            "[92]\ttest-rmse:3.71624\n",
            "[93]\ttest-rmse:3.70844\n",
            "[94]\ttest-rmse:3.70135\n",
            "[95]\ttest-rmse:3.69505\n",
            "[96]\ttest-rmse:3.68913\n",
            "[97]\ttest-rmse:3.68211\n",
            "[98]\ttest-rmse:3.67668\n",
            "[99]\ttest-rmse:3.67142\n",
            "[100]\ttest-rmse:3.66639\n",
            "[101]\ttest-rmse:3.66099\n",
            "[102]\ttest-rmse:3.65462\n",
            "[103]\ttest-rmse:3.65046\n",
            "[104]\ttest-rmse:3.64627\n",
            "[105]\ttest-rmse:3.64096\n",
            "[106]\ttest-rmse:3.63696\n",
            "[107]\ttest-rmse:3.63263\n",
            "[108]\ttest-rmse:3.62906\n",
            "[109]\ttest-rmse:3.62569\n",
            "[110]\ttest-rmse:3.62215\n",
            "[111]\ttest-rmse:3.61886\n",
            "[112]\ttest-rmse:3.61574\n",
            "[113]\ttest-rmse:3.61282\n",
            "[114]\ttest-rmse:3.60969\n",
            "[115]\ttest-rmse:3.60712\n",
            "[116]\ttest-rmse:3.60475\n",
            "[117]\ttest-rmse:3.60149\n",
            "[118]\ttest-rmse:3.59915\n",
            "[119]\ttest-rmse:3.59741\n",
            "[120]\ttest-rmse:3.59474\n",
            "[121]\ttest-rmse:3.59301\n",
            "[122]\ttest-rmse:3.59074\n",
            "[123]\ttest-rmse:3.5881\n",
            "[124]\ttest-rmse:3.58655\n",
            "[125]\ttest-rmse:3.58374\n",
            "[126]\ttest-rmse:3.58237\n",
            "[127]\ttest-rmse:3.58026\n",
            "[128]\ttest-rmse:3.5784\n",
            "[129]\ttest-rmse:3.5768\n",
            "[130]\ttest-rmse:3.57473\n",
            "[131]\ttest-rmse:3.57267\n",
            "[132]\ttest-rmse:3.5714\n",
            "[133]\ttest-rmse:3.56926\n",
            "[134]\ttest-rmse:3.56829\n",
            "[135]\ttest-rmse:3.56658\n",
            "[136]\ttest-rmse:3.56535\n",
            "[137]\ttest-rmse:3.56453\n",
            "[138]\ttest-rmse:3.56298\n",
            "[139]\ttest-rmse:3.56151\n",
            "[140]\ttest-rmse:3.56054\n",
            "[141]\ttest-rmse:3.55933\n",
            "[142]\ttest-rmse:3.55833\n",
            "[143]\ttest-rmse:3.55803\n",
            "[144]\ttest-rmse:3.55726\n",
            "[145]\ttest-rmse:3.55572\n",
            "[146]\ttest-rmse:3.55461\n",
            "[147]\ttest-rmse:3.55209\n",
            "[148]\ttest-rmse:3.55148\n",
            "[149]\ttest-rmse:3.54897\n",
            "[150]\ttest-rmse:3.54888\n",
            "[151]\ttest-rmse:3.54758\n",
            "[152]\ttest-rmse:3.54565\n",
            "[153]\ttest-rmse:3.54488\n",
            "[154]\ttest-rmse:3.54281\n",
            "[155]\ttest-rmse:3.54165\n",
            "[156]\ttest-rmse:3.54064\n",
            "[157]\ttest-rmse:3.54122\n",
            "[158]\ttest-rmse:3.54042\n",
            "[159]\ttest-rmse:3.53907\n",
            "[160]\ttest-rmse:3.53746\n",
            "[161]\ttest-rmse:3.53646\n",
            "[162]\ttest-rmse:3.53583\n",
            "[163]\ttest-rmse:3.53439\n",
            "[164]\ttest-rmse:3.53362\n",
            "[165]\ttest-rmse:3.53177\n",
            "[166]\ttest-rmse:3.53052\n",
            "[167]\ttest-rmse:3.52968\n",
            "[168]\ttest-rmse:3.52845\n",
            "[169]\ttest-rmse:3.52806\n",
            "[170]\ttest-rmse:3.52735\n",
            "[171]\ttest-rmse:3.52633\n",
            "[172]\ttest-rmse:3.52583\n",
            "[173]\ttest-rmse:3.52515\n",
            "[174]\ttest-rmse:3.52419\n",
            "[175]\ttest-rmse:3.52398\n",
            "[176]\ttest-rmse:3.52308\n",
            "[177]\ttest-rmse:3.52343\n",
            "[178]\ttest-rmse:3.52302\n",
            "[179]\ttest-rmse:3.52247\n",
            "[180]\ttest-rmse:3.52286\n",
            "[181]\ttest-rmse:3.52253\n",
            "[182]\ttest-rmse:3.52124\n",
            "[183]\ttest-rmse:3.52043\n",
            "[184]\ttest-rmse:3.52051\n",
            "[185]\ttest-rmse:3.52002\n",
            "[186]\ttest-rmse:3.52067\n",
            "[187]\ttest-rmse:3.51831\n",
            "[188]\ttest-rmse:3.51766\n",
            "[189]\ttest-rmse:3.51722\n",
            "[190]\ttest-rmse:3.5161\n",
            "[191]\ttest-rmse:3.51663\n",
            "[192]\ttest-rmse:3.51643\n",
            "[193]\ttest-rmse:3.51612\n",
            "[194]\ttest-rmse:3.51607\n",
            "[195]\ttest-rmse:3.51612\n",
            "[196]\ttest-rmse:3.51562\n",
            "[197]\ttest-rmse:3.51348\n",
            "[198]\ttest-rmse:3.51358\n",
            "[199]\ttest-rmse:3.51362\n",
            "[200]\ttest-rmse:3.51334\n",
            "[201]\ttest-rmse:3.51224\n",
            "[202]\ttest-rmse:3.51028\n",
            "[203]\ttest-rmse:3.50954\n",
            "[204]\ttest-rmse:3.50885\n",
            "[205]\ttest-rmse:3.50799\n",
            "[206]\ttest-rmse:3.50753\n",
            "[207]\ttest-rmse:3.50716\n",
            "[208]\ttest-rmse:3.50705\n",
            "[209]\ttest-rmse:3.50669\n",
            "[210]\ttest-rmse:3.50644\n",
            "[211]\ttest-rmse:3.50587\n",
            "[212]\ttest-rmse:3.50597\n",
            "[213]\ttest-rmse:3.50409\n",
            "[214]\ttest-rmse:3.50402\n",
            "[215]\ttest-rmse:3.50362\n",
            "[216]\ttest-rmse:3.50332\n",
            "[217]\ttest-rmse:3.50236\n",
            "[218]\ttest-rmse:3.50198\n",
            "[219]\ttest-rmse:3.50006\n",
            "[220]\ttest-rmse:3.49998\n",
            "[221]\ttest-rmse:3.50012\n",
            "[222]\ttest-rmse:3.49891\n",
            "[223]\ttest-rmse:3.49715\n",
            "[224]\ttest-rmse:3.49688\n",
            "[225]\ttest-rmse:3.49672\n",
            "[226]\ttest-rmse:3.49643\n",
            "[227]\ttest-rmse:3.49469\n",
            "[228]\ttest-rmse:3.49489\n",
            "[229]\ttest-rmse:3.49463\n",
            "[230]\ttest-rmse:3.4947\n",
            "[231]\ttest-rmse:3.49455\n",
            "[232]\ttest-rmse:3.49457\n",
            "[233]\ttest-rmse:3.49364\n",
            "[234]\ttest-rmse:3.49315\n",
            "[235]\ttest-rmse:3.49307\n",
            "[236]\ttest-rmse:3.49133\n",
            "[237]\ttest-rmse:3.4916\n",
            "[238]\ttest-rmse:3.49121\n",
            "[239]\ttest-rmse:3.49076\n",
            "[240]\ttest-rmse:3.49046\n",
            "[241]\ttest-rmse:3.48989\n",
            "[242]\ttest-rmse:3.48976\n",
            "[243]\ttest-rmse:3.48831\n",
            "[244]\ttest-rmse:3.48792\n",
            "[245]\ttest-rmse:3.48794\n",
            "[246]\ttest-rmse:3.48621\n",
            "[247]\ttest-rmse:3.48605\n",
            "[248]\ttest-rmse:3.48547\n",
            "[249]\ttest-rmse:3.48473\n",
            "[250]\ttest-rmse:3.48488\n",
            "[251]\ttest-rmse:3.4848\n",
            "[252]\ttest-rmse:3.48426\n",
            "[253]\ttest-rmse:3.48319\n",
            "[254]\ttest-rmse:3.48357\n",
            "[255]\ttest-rmse:3.48347\n",
            "[256]\ttest-rmse:3.48318\n",
            "[257]\ttest-rmse:3.48311\n",
            "[258]\ttest-rmse:3.48201\n",
            "[259]\ttest-rmse:3.48172\n",
            "[260]\ttest-rmse:3.48129\n",
            "[261]\ttest-rmse:3.48117\n",
            "[262]\ttest-rmse:3.48149\n",
            "[263]\ttest-rmse:3.48137\n",
            "[264]\ttest-rmse:3.48068\n",
            "[265]\ttest-rmse:3.4805\n",
            "[266]\ttest-rmse:3.48059\n",
            "[267]\ttest-rmse:3.47992\n",
            "[268]\ttest-rmse:3.48021\n",
            "[269]\ttest-rmse:3.47922\n",
            "[270]\ttest-rmse:3.4789\n",
            "[271]\ttest-rmse:3.47879\n",
            "[272]\ttest-rmse:3.478\n",
            "[273]\ttest-rmse:3.47813\n",
            "[274]\ttest-rmse:3.47709\n",
            "[275]\ttest-rmse:3.47623\n",
            "[276]\ttest-rmse:3.47587\n",
            "[277]\ttest-rmse:3.47621\n",
            "[278]\ttest-rmse:3.47617\n",
            "[279]\ttest-rmse:3.47538\n",
            "[280]\ttest-rmse:3.47498\n",
            "[281]\ttest-rmse:3.4742\n",
            "[282]\ttest-rmse:3.4736\n",
            "[283]\ttest-rmse:3.4737\n",
            "[284]\ttest-rmse:3.47344\n",
            "[285]\ttest-rmse:3.47339\n",
            "[286]\ttest-rmse:3.47312\n",
            "[287]\ttest-rmse:3.47323\n",
            "[288]\ttest-rmse:3.47302\n",
            "[289]\ttest-rmse:3.47263\n",
            "[290]\ttest-rmse:3.47136\n",
            "[291]\ttest-rmse:3.47132\n",
            "[292]\ttest-rmse:3.47108\n",
            "[293]\ttest-rmse:3.47111\n",
            "[294]\ttest-rmse:3.47053\n",
            "[295]\ttest-rmse:3.47028\n",
            "[296]\ttest-rmse:3.47024\n",
            "[297]\ttest-rmse:3.46989\n",
            "[298]\ttest-rmse:3.46993\n",
            "[299]\ttest-rmse:3.4696\n",
            "[300]\ttest-rmse:3.46982\n",
            "[301]\ttest-rmse:3.46952\n",
            "[302]\ttest-rmse:3.4685\n",
            "[303]\ttest-rmse:3.46761\n",
            "[304]\ttest-rmse:3.46733\n",
            "[305]\ttest-rmse:3.46713\n",
            "[306]\ttest-rmse:3.46728\n",
            "[307]\ttest-rmse:3.46698\n",
            "[308]\ttest-rmse:3.46695\n",
            "[309]\ttest-rmse:3.46688\n",
            "[310]\ttest-rmse:3.46601\n",
            "[311]\ttest-rmse:3.46598\n",
            "[312]\ttest-rmse:3.46619\n",
            "[313]\ttest-rmse:3.46533\n",
            "[314]\ttest-rmse:3.46524\n",
            "[315]\ttest-rmse:3.46528\n",
            "[316]\ttest-rmse:3.46506\n",
            "[317]\ttest-rmse:3.46485\n",
            "[318]\ttest-rmse:3.46471\n",
            "[319]\ttest-rmse:3.46396\n",
            "[320]\ttest-rmse:3.46347\n",
            "[321]\ttest-rmse:3.46373\n",
            "[322]\ttest-rmse:3.46326\n",
            "[323]\ttest-rmse:3.46315\n",
            "[324]\ttest-rmse:3.46261\n",
            "[325]\ttest-rmse:3.46249\n",
            "[326]\ttest-rmse:3.46233\n",
            "[327]\ttest-rmse:3.46223\n",
            "[328]\ttest-rmse:3.4625\n",
            "[329]\ttest-rmse:3.46239\n",
            "[330]\ttest-rmse:3.46213\n",
            "[331]\ttest-rmse:3.4618\n",
            "[332]\ttest-rmse:3.46172\n",
            "[333]\ttest-rmse:3.46154\n",
            "[334]\ttest-rmse:3.46152\n",
            "[335]\ttest-rmse:3.4618\n",
            "[336]\ttest-rmse:3.46218\n",
            "[337]\ttest-rmse:3.46178\n",
            "[338]\ttest-rmse:3.46171\n",
            "[339]\ttest-rmse:3.46138\n",
            "[340]\ttest-rmse:3.46105\n",
            "[341]\ttest-rmse:3.46087\n",
            "[342]\ttest-rmse:3.46077\n",
            "[343]\ttest-rmse:3.4607\n",
            "[344]\ttest-rmse:3.46066\n",
            "[345]\ttest-rmse:3.46057\n",
            "[346]\ttest-rmse:3.46046\n",
            "[347]\ttest-rmse:3.4602\n",
            "[348]\ttest-rmse:3.46022\n",
            "[349]\ttest-rmse:3.46025\n",
            "[350]\ttest-rmse:3.45988\n",
            "[351]\ttest-rmse:3.45969\n",
            "[352]\ttest-rmse:3.45951\n",
            "[353]\ttest-rmse:3.45963\n",
            "[354]\ttest-rmse:3.45942\n",
            "[355]\ttest-rmse:3.45907\n",
            "[356]\ttest-rmse:3.45887\n",
            "[357]\ttest-rmse:3.45786\n",
            "[358]\ttest-rmse:3.45797\n",
            "[359]\ttest-rmse:3.45796\n",
            "[360]\ttest-rmse:3.45801\n",
            "[361]\ttest-rmse:3.45807\n",
            "[362]\ttest-rmse:3.45799\n",
            "[363]\ttest-rmse:3.45706\n",
            "[364]\ttest-rmse:3.45717\n",
            "[365]\ttest-rmse:3.45697\n",
            "[366]\ttest-rmse:3.45675\n",
            "[367]\ttest-rmse:3.45706\n",
            "[368]\ttest-rmse:3.45744\n",
            "[369]\ttest-rmse:3.45748\n",
            "[370]\ttest-rmse:3.45741\n",
            "[371]\ttest-rmse:3.4572\n",
            "[372]\ttest-rmse:3.45732\n",
            "[373]\ttest-rmse:3.45701\n",
            "[374]\ttest-rmse:3.4565\n",
            "[375]\ttest-rmse:3.45633\n",
            "[376]\ttest-rmse:3.4562\n",
            "[377]\ttest-rmse:3.45638\n",
            "[378]\ttest-rmse:3.45643\n",
            "[379]\ttest-rmse:3.45654\n",
            "[380]\ttest-rmse:3.45646\n",
            "[381]\ttest-rmse:3.45645\n",
            "[382]\ttest-rmse:3.45648\n",
            "[383]\ttest-rmse:3.45662\n",
            "[384]\ttest-rmse:3.45645\n",
            "[385]\ttest-rmse:3.4569\n",
            "[386]\ttest-rmse:3.45689\n",
            "Stopping. Best iteration:\n",
            "[376]\ttest-rmse:3.4562\n",
            "\n"
          ],
          "name": "stdout"
        }
      ]
    }
  ]
}