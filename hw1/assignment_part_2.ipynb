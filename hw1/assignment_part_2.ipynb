{
  "nbformat": 4,
  "nbformat_minor": 0,
  "metadata": {
    "colab": {
      "name": "258-Part2.ipynb",
      "provenance": []
    },
    "kernelspec": {
      "name": "python3",
      "display_name": "Python 3"
    },
    "accelerator": "GPU"
  },
  "cells": [
    {
      "cell_type": "markdown",
      "metadata": {
        "id": "1lvbXEY0z9X3"
      },
      "source": [
        "#Tensorflow codelab MNIST"
      ]
    },
    {
      "cell_type": "code",
      "metadata": {
        "id": "hcWrYlaZXOEH"
      },
      "source": [
        "#parameters\r\n",
        "\r\n",
        "BATCH_SIZE = 128\r\n",
        "EPOCHS = 10\r\n",
        "\r\n",
        "training_images_file = 'gs://mnist-public/train-images-idx3-ubyte'\r\n",
        "training_labels_file = 'gs://mnist-public/train-labels-idx1-ubyte'\r\n",
        "validation_images_file = 'gs://mnist-public/t10k-images-idx3-ubyte'\r\n",
        "validation_labels_files = 'gs://mnist-public/t10k-labels-idx1-ubyte'"
      ],
      "execution_count": 6,
      "outputs": []
    },
    {
      "cell_type": "code",
      "metadata": {
        "colab": {
          "base_uri": "https://localhost:8080/"
        },
        "id": "zxpEwPjkXqwT",
        "outputId": "fcd008e7-c34d-4882-d522-a51a86dbdff9"
      },
      "source": [
        "#imports\r\n",
        "\r\n",
        "import os, re, math, json, shutil, pprint\r\n",
        "import PIL.Image, PIL.ImageFont, PIL.ImageDraw\r\n",
        "import IPython.display as display\r\n",
        "import numpy as np\r\n",
        "import tensorflow as tf\r\n",
        "from matplotlib import pyplot as plt\r\n",
        "print(\"TensorFlow version \" + tf.__version__)"
      ],
      "execution_count": 7,
      "outputs": [
        {
          "output_type": "stream",
          "text": [
            "TensorFlow version 2.4.1\n"
          ],
          "name": "stdout"
        }
      ]
    },
    {
      "cell_type": "markdown",
      "metadata": {
        "id": "xDgQR6h50E32"
      },
      "source": [
        "##Preparing datasets"
      ]
    },
    {
      "cell_type": "code",
      "metadata": {
        "id": "Kn9m8AJZYlaw"
      },
      "source": [
        "#parse files, prepare training and validation datasets\r\n",
        "\r\n",
        "AUTO = tf.data.experimental.AUTOTUNE\r\n",
        "\r\n",
        "def read_label(tf_bytestring):\r\n",
        "  label = tf.io.decode_raw(tf_bytestring, tf.uint8)\r\n",
        "  label = tf.reshape(label, [])\r\n",
        "  label = tf.one_hot(label, 10)\r\n",
        "  return label\r\n",
        "\r\n",
        "def read_image(tf_bytestring):\r\n",
        "  image = tf.io.decode_raw(tf_bytestring, tf.uint8)\r\n",
        "  image = tf.cast(image, tf.float32)/256.0\r\n",
        "  image = tf.reshape(image, [28*28])\r\n",
        "  return image\r\n",
        "\r\n",
        "def load_dataset(image_file, label_file):\r\n",
        "  imagedataset = tf.data.FixedLengthRecordDataset(image_file, 28*28, header_bytes = 16)\r\n",
        "  imagedataset = imagedataset.map(read_image, num_parallel_calls=16)\r\n",
        "  labelsdataset = tf.data.FixedLengthRecordDataset(label_file, 1, header_bytes=8)\r\n",
        "  labelsdataset = labelsdataset.map(read_label, num_parallel_calls=16)\r\n",
        "  dataset = tf.data.Dataset.zip((imagedataset, labelsdataset))\r\n",
        "  return dataset\r\n",
        "\r\n",
        "def get_training_dataset(image_file, label_file, batch_size):\r\n",
        "  dataset = load_dataset(image_file, label_file)\r\n",
        "  dataset = dataset.cache()\r\n",
        "  dataset = dataset.shuffle(5000, reshuffle_each_iteration=True)\r\n",
        "  dataset = dataset.repeat()\r\n",
        "  dataset = dataset.batch(batch_size, drop_remainder=True)\r\n",
        "  dataset = dataset.prefetch(AUTO)\r\n",
        "  return dataset\r\n",
        "\r\n",
        "def get_validation_dataset(image_file, label_file):\r\n",
        "  dataset = load_dataset(image_file, label_file)\r\n",
        "  dataset = dataset.cache()\r\n",
        "  dataset = dataset.batch(10000, drop_remainder=True)\r\n",
        "  dataset = dataset.repeat()\r\n",
        "  return dataset"
      ],
      "execution_count": 18,
      "outputs": []
    },
    {
      "cell_type": "code",
      "metadata": {
        "id": "aCCXL_9tbibU"
      },
      "source": [
        "training_dataset = get_training_dataset(training_images_file, training_labels_file, BATCH_SIZE)\r\n",
        "validation_dataset = get_validation_dataset(validation_images_file, validation_labels_files)\r\n",
        "\r\n",
        "training_input_fn = lambda: get_training_dataset(training_images_file, training_labels_file, BATCH_SIZE)\r\n",
        "validation_input_fn = lambda: get_validation_dataset(validation_images_file, validation_labels_files, BATCH_SIZE)"
      ],
      "execution_count": 21,
      "outputs": []
    },
    {
      "cell_type": "markdown",
      "metadata": {
        "id": "ep5SxlLV0J08"
      },
      "source": [
        "##Basic Keras Model "
      ]
    },
    {
      "cell_type": "code",
      "metadata": {
        "id": "KEWr813_ds-4",
        "colab": {
          "base_uri": "https://localhost:8080/"
        },
        "outputId": "80d2badb-a2e3-4b96-cc7e-f23b2e008ad8"
      },
      "source": [
        "#Keras Model\r\n",
        "\r\n",
        "model = tf.keras.Sequential(\r\n",
        "    [\r\n",
        "     tf.keras.layers.Input(shape=(28*28)),\r\n",
        "     tf.keras.layers.Dense(10, activation='softmax')\r\n",
        "    ]\r\n",
        ")\r\n",
        "\r\n",
        "model.compile(optimizer='sgd',\r\n",
        "              loss='categorical_crossentropy',\r\n",
        "              metrics=['accuracy'])\r\n",
        "\r\n",
        "#print layers\r\n",
        "model.summary()"
      ],
      "execution_count": 22,
      "outputs": [
        {
          "output_type": "stream",
          "text": [
            "Model: \"sequential_1\"\n",
            "_________________________________________________________________\n",
            "Layer (type)                 Output Shape              Param #   \n",
            "=================================================================\n",
            "dense_1 (Dense)              (None, 10)                7850      \n",
            "=================================================================\n",
            "Total params: 7,850\n",
            "Trainable params: 7,850\n",
            "Non-trainable params: 0\n",
            "_________________________________________________________________\n"
          ],
          "name": "stdout"
        }
      ]
    },
    {
      "cell_type": "code",
      "metadata": {
        "colab": {
          "base_uri": "https://localhost:8080/"
        },
        "id": "9eQ_dSasm2hn",
        "outputId": "0e13bb65-17a5-4961-a76f-970bac6d9650"
      },
      "source": [
        "model.fit(training_dataset, steps_per_epoch=steps_per_epoch, epochs=EPOCHS,\r\n",
        "          validation_data=validation_dataset, validation_steps=1)"
      ],
      "execution_count": 24,
      "outputs": [
        {
          "output_type": "stream",
          "text": [
            "Epoch 1/10\n",
            "468/468 [==============================] - 2s 4ms/step - loss: 0.3978 - accuracy: 0.8927 - val_loss: 0.3728 - val_accuracy: 0.8995\n",
            "Epoch 2/10\n",
            "468/468 [==============================] - 2s 3ms/step - loss: 0.3903 - accuracy: 0.8942 - val_loss: 0.3665 - val_accuracy: 0.9012\n",
            "Epoch 3/10\n",
            "468/468 [==============================] - 2s 4ms/step - loss: 0.3836 - accuracy: 0.8960 - val_loss: 0.3609 - val_accuracy: 0.9025\n",
            "Epoch 4/10\n",
            "468/468 [==============================] - 2s 4ms/step - loss: 0.3782 - accuracy: 0.8971 - val_loss: 0.3560 - val_accuracy: 0.9037\n",
            "Epoch 5/10\n",
            "468/468 [==============================] - 2s 4ms/step - loss: 0.3733 - accuracy: 0.8986 - val_loss: 0.3517 - val_accuracy: 0.9049\n",
            "Epoch 6/10\n",
            "468/468 [==============================] - 2s 3ms/step - loss: 0.3690 - accuracy: 0.8993 - val_loss: 0.3476 - val_accuracy: 0.9062\n",
            "Epoch 7/10\n",
            "468/468 [==============================] - 2s 3ms/step - loss: 0.3642 - accuracy: 0.9001 - val_loss: 0.3443 - val_accuracy: 0.9071\n",
            "Epoch 8/10\n",
            "468/468 [==============================] - 2s 3ms/step - loss: 0.3611 - accuracy: 0.9009 - val_loss: 0.3408 - val_accuracy: 0.9080\n",
            "Epoch 9/10\n",
            "468/468 [==============================] - 2s 3ms/step - loss: 0.3574 - accuracy: 0.9017 - val_loss: 0.3380 - val_accuracy: 0.9092\n",
            "Epoch 10/10\n",
            "468/468 [==============================] - 2s 3ms/step - loss: 0.3538 - accuracy: 0.9025 - val_loss: 0.3352 - val_accuracy: 0.9088\n"
          ],
          "name": "stdout"
        },
        {
          "output_type": "execute_result",
          "data": {
            "text/plain": [
              "<tensorflow.python.keras.callbacks.History at 0x7fb3b055d470>"
            ]
          },
          "metadata": {
            "tags": []
          },
          "execution_count": 24
        }
      ]
    },
    {
      "cell_type": "code",
      "metadata": {
        "id": "bhCLADgkf9J9",
        "colab": {
          "base_uri": "https://localhost:8080/"
        },
        "outputId": "6e36d311-b445-4de4-a5b1-6f8e650f80a6"
      },
      "source": [
        "#training and validate the model\r\n",
        "\r\n",
        "steps_per_epoch = 60000//BATCH_SIZE\r\n",
        "print(\"Steps per epoch: \", steps_per_epoch)\r\n",
        "\r\n",
        "history = model.fit(training_dataset, steps_per_epoch=steps_per_epoch, epochs=EPOCHS,\r\n",
        "                    validation_data=validation_dataset, validation_steps=1)"
      ],
      "execution_count": 23,
      "outputs": [
        {
          "output_type": "stream",
          "text": [
            "Steps per epoch:  468\n",
            "Epoch 1/10\n",
            "468/468 [==============================] - 6s 9ms/step - loss: 1.6988 - accuracy: 0.5288 - val_loss: 0.8141 - val_accuracy: 0.8278\n",
            "Epoch 2/10\n",
            "468/468 [==============================] - 2s 4ms/step - loss: 0.7720 - accuracy: 0.8293 - val_loss: 0.6086 - val_accuracy: 0.8587\n",
            "Epoch 3/10\n",
            "468/468 [==============================] - 2s 4ms/step - loss: 0.6104 - accuracy: 0.8539 - val_loss: 0.5265 - val_accuracy: 0.8723\n",
            "Epoch 4/10\n",
            "468/468 [==============================] - 2s 3ms/step - loss: 0.5370 - accuracy: 0.8666 - val_loss: 0.4802 - val_accuracy: 0.8776\n",
            "Epoch 5/10\n",
            "468/468 [==============================] - 2s 4ms/step - loss: 0.4964 - accuracy: 0.8731 - val_loss: 0.4502 - val_accuracy: 0.8840\n",
            "Epoch 6/10\n",
            "468/468 [==============================] - 1s 3ms/step - loss: 0.4690 - accuracy: 0.8790 - val_loss: 0.4287 - val_accuracy: 0.8884\n",
            "Epoch 7/10\n",
            "468/468 [==============================] - 2s 3ms/step - loss: 0.4408 - accuracy: 0.8851 - val_loss: 0.4123 - val_accuracy: 0.8909\n",
            "Epoch 8/10\n",
            "468/468 [==============================] - 2s 4ms/step - loss: 0.4276 - accuracy: 0.8883 - val_loss: 0.3996 - val_accuracy: 0.8932\n",
            "Epoch 9/10\n",
            "468/468 [==============================] - 2s 4ms/step - loss: 0.4168 - accuracy: 0.8884 - val_loss: 0.3889 - val_accuracy: 0.8963\n",
            "Epoch 10/10\n",
            "468/468 [==============================] - 2s 4ms/step - loss: 0.4018 - accuracy: 0.8933 - val_loss: 0.3803 - val_accuracy: 0.8983\n"
          ],
          "name": "stdout"
        }
      ]
    },
    {
      "cell_type": "code",
      "metadata": {
        "id": "T0O9FA4miUYF"
      },
      "source": [
        "probabilities = model.predict(validation_dataset, steps=1)\r\n",
        "predicted_labels = np.argmax(probabilities, axis=1)"
      ],
      "execution_count": 26,
      "outputs": []
    },
    {
      "cell_type": "markdown",
      "metadata": {
        "id": "kipaGrwN0QR5"
      },
      "source": [
        "##Adding Layers to the model"
      ]
    },
    {
      "cell_type": "code",
      "metadata": {
        "id": "yYf-Q8L8nO8f"
      },
      "source": [
        "#Adding Layers\r\n",
        "\r\n",
        "model = tf.keras.Sequential(\r\n",
        "    [\r\n",
        "     tf.keras.layers.Input(shape=(28*28)),\r\n",
        "     tf.keras.layers.Dense(200, activation='sigmoid'),\r\n",
        "     tf.keras.layers.Dense(60, activation='sigmoid'),\r\n",
        "     tf.keras.layers.Dense(10, activation='softmax')\r\n",
        "    ]\r\n",
        ")"
      ],
      "execution_count": 30,
      "outputs": []
    },
    {
      "cell_type": "code",
      "metadata": {
        "colab": {
          "base_uri": "https://localhost:8080/"
        },
        "id": "ufe_LjaKn1u8",
        "outputId": "1fd7e488-f8af-4984-834f-842440afa758"
      },
      "source": [
        "model.compile(optimizer='sgd', loss='categorical_crossentropy', metrics=['accuracy'])\r\n",
        "model.summary()"
      ],
      "execution_count": 32,
      "outputs": [
        {
          "output_type": "stream",
          "text": [
            "Model: \"sequential_4\"\n",
            "_________________________________________________________________\n",
            "Layer (type)                 Output Shape              Param #   \n",
            "=================================================================\n",
            "dense_8 (Dense)              (None, 200)               157000    \n",
            "_________________________________________________________________\n",
            "dense_9 (Dense)              (None, 60)                12060     \n",
            "_________________________________________________________________\n",
            "dense_10 (Dense)             (None, 10)                610       \n",
            "=================================================================\n",
            "Total params: 169,670\n",
            "Trainable params: 169,670\n",
            "Non-trainable params: 0\n",
            "_________________________________________________________________\n"
          ],
          "name": "stdout"
        }
      ]
    },
    {
      "cell_type": "code",
      "metadata": {
        "colab": {
          "base_uri": "https://localhost:8080/"
        },
        "id": "bGXtS0TjoRuh",
        "outputId": "53c1c055-2b72-448a-8ca5-445952872514"
      },
      "source": [
        "#training and validate the model\r\n",
        "\r\n",
        "steps_per_epoch = 60000//BATCH_SIZE\r\n",
        "print(\"Steps per epoch: \", steps_per_epoch)\r\n",
        "\r\n",
        "history = model.fit(training_dataset, steps_per_epoch=steps_per_epoch, epochs=EPOCHS,\r\n",
        "                    validation_data=validation_dataset, validation_steps=1)"
      ],
      "execution_count": 33,
      "outputs": [
        {
          "output_type": "stream",
          "text": [
            "Steps per epoch:  468\n",
            "Epoch 1/10\n",
            "468/468 [==============================] - 2s 4ms/step - loss: 2.3127 - accuracy: 0.1609 - val_loss: 2.2317 - val_accuracy: 0.3968\n",
            "Epoch 2/10\n",
            "468/468 [==============================] - 2s 3ms/step - loss: 2.2162 - accuracy: 0.3833 - val_loss: 2.1556 - val_accuracy: 0.5188\n",
            "Epoch 3/10\n",
            "468/468 [==============================] - 2s 4ms/step - loss: 2.1360 - accuracy: 0.5118 - val_loss: 2.0492 - val_accuracy: 0.5985\n",
            "Epoch 4/10\n",
            "468/468 [==============================] - 2s 3ms/step - loss: 2.0211 - accuracy: 0.5884 - val_loss: 1.8999 - val_accuracy: 0.6196\n",
            "Epoch 5/10\n",
            "468/468 [==============================] - 2s 3ms/step - loss: 1.8646 - accuracy: 0.6240 - val_loss: 1.7114 - val_accuracy: 0.6708\n",
            "Epoch 6/10\n",
            "468/468 [==============================] - 2s 3ms/step - loss: 1.6733 - accuracy: 0.6634 - val_loss: 1.5090 - val_accuracy: 0.6978\n",
            "Epoch 7/10\n",
            "468/468 [==============================] - 2s 3ms/step - loss: 1.4731 - accuracy: 0.6908 - val_loss: 1.3218 - val_accuracy: 0.7260\n",
            "Epoch 8/10\n",
            "468/468 [==============================] - 2s 3ms/step - loss: 1.2991 - accuracy: 0.7226 - val_loss: 1.1667 - val_accuracy: 0.7526\n",
            "Epoch 9/10\n",
            "468/468 [==============================] - 2s 4ms/step - loss: 1.1497 - accuracy: 0.7463 - val_loss: 1.0431 - val_accuracy: 0.7694\n",
            "Epoch 10/10\n",
            "468/468 [==============================] - 2s 3ms/step - loss: 1.0295 - accuracy: 0.7654 - val_loss: 0.9440 - val_accuracy: 0.7885\n"
          ],
          "name": "stdout"
        }
      ]
    },
    {
      "cell_type": "markdown",
      "metadata": {
        "id": "I47DmSE8opl0"
      },
      "source": [
        "##Special care for vanishing gradient problem by adding RELU"
      ]
    },
    {
      "cell_type": "code",
      "metadata": {
        "id": "FAylc0lFotmN"
      },
      "source": [
        "model = tf.keras.Sequential([\r\n",
        "                             tf.keras.layers.Input(shape=(28*28, )),\r\n",
        "                             tf.keras.layers.Dense(200, activation='relu'),\r\n",
        "                             tf.keras.layers.Dense(60, activation='relu'),\r\n",
        "                             tf.keras.layers.Dense(10, activation='softmax')\r\n",
        "])"
      ],
      "execution_count": 35,
      "outputs": []
    },
    {
      "cell_type": "code",
      "metadata": {
        "colab": {
          "base_uri": "https://localhost:8080/"
        },
        "id": "oM5ugGbWpI3C",
        "outputId": "504a3177-095c-4708-eda1-0baa23c677bc"
      },
      "source": [
        "#using adam optimizer instead of sgd\r\n",
        "\r\n",
        "model.compile(optimizer='adam', loss='categorical_crossentropy', metrics=['accuracy'])\r\n",
        "model.summary()"
      ],
      "execution_count": 36,
      "outputs": [
        {
          "output_type": "stream",
          "text": [
            "Model: \"sequential_5\"\n",
            "_________________________________________________________________\n",
            "Layer (type)                 Output Shape              Param #   \n",
            "=================================================================\n",
            "dense_13 (Dense)             (None, 200)               157000    \n",
            "_________________________________________________________________\n",
            "dense_14 (Dense)             (None, 60)                12060     \n",
            "_________________________________________________________________\n",
            "dense_15 (Dense)             (None, 10)                610       \n",
            "=================================================================\n",
            "Total params: 169,670\n",
            "Trainable params: 169,670\n",
            "Non-trainable params: 0\n",
            "_________________________________________________________________\n"
          ],
          "name": "stdout"
        }
      ]
    },
    {
      "cell_type": "code",
      "metadata": {
        "colab": {
          "base_uri": "https://localhost:8080/"
        },
        "id": "z0tC2gxLpdX5",
        "outputId": "ee274ea0-23fd-4aec-99a5-d58ff62514ab"
      },
      "source": [
        "steps_per_epoch = 6000 // BATCH_SIZE\r\n",
        "print(\"Steps per epoch: \", steps_per_epoch)\r\n",
        "\r\n",
        "history = model.fit(training_dataset, steps_per_epoch=steps_per_epoch, epochs=EPOCHS, \r\n",
        "                    validation_data = validation_dataset, validation_steps=1)"
      ],
      "execution_count": 38,
      "outputs": [
        {
          "output_type": "stream",
          "text": [
            "Steps per epoch:  46\n",
            "Epoch 1/10\n",
            "46/46 [==============================] - 1s 26ms/step - loss: 1.4807 - accuracy: 0.5597 - val_loss: 0.4110 - val_accuracy: 0.8784\n",
            "Epoch 2/10\n",
            "46/46 [==============================] - 1s 16ms/step - loss: 0.3924 - accuracy: 0.8816 - val_loss: 0.3124 - val_accuracy: 0.9111\n",
            "Epoch 3/10\n",
            "46/46 [==============================] - 1s 15ms/step - loss: 0.3070 - accuracy: 0.9119 - val_loss: 0.2594 - val_accuracy: 0.9260\n",
            "Epoch 4/10\n",
            "46/46 [==============================] - 1s 16ms/step - loss: 0.2549 - accuracy: 0.9292 - val_loss: 0.2214 - val_accuracy: 0.9365\n",
            "Epoch 5/10\n",
            "46/46 [==============================] - 1s 17ms/step - loss: 0.2295 - accuracy: 0.9312 - val_loss: 0.2011 - val_accuracy: 0.9397\n",
            "Epoch 6/10\n",
            "46/46 [==============================] - 1s 15ms/step - loss: 0.2184 - accuracy: 0.9369 - val_loss: 0.1802 - val_accuracy: 0.9462\n",
            "Epoch 7/10\n",
            "46/46 [==============================] - 1s 15ms/step - loss: 0.1972 - accuracy: 0.9419 - val_loss: 0.1796 - val_accuracy: 0.9477\n",
            "Epoch 8/10\n",
            "46/46 [==============================] - 1s 19ms/step - loss: 0.2031 - accuracy: 0.9455 - val_loss: 0.1624 - val_accuracy: 0.9517\n",
            "Epoch 9/10\n",
            "46/46 [==============================] - 1s 20ms/step - loss: 0.1635 - accuracy: 0.9540 - val_loss: 0.1508 - val_accuracy: 0.9575\n",
            "Epoch 10/10\n",
            "46/46 [==============================] - 1s 15ms/step - loss: 0.1364 - accuracy: 0.9601 - val_loss: 0.1521 - val_accuracy: 0.9531\n"
          ],
          "name": "stdout"
        }
      ]
    },
    {
      "cell_type": "markdown",
      "metadata": {
        "id": "fKgPbi0Wp85z"
      },
      "source": [
        "##Learning rate decay by tweaking optimizer params"
      ]
    },
    {
      "cell_type": "code",
      "metadata": {
        "id": "qA92TP7oqFLK"
      },
      "source": [
        "model = tf.keras.Sequential([\r\n",
        "                             tf.keras.layers.Input(shape=(28*28, )),\r\n",
        "                             tf.keras.layers.Dense(200, activation='relu'),\r\n",
        "                             tf.keras.layers.Dense(60, activation='relu'),\r\n",
        "                             tf.keras.layers.Dense(10, activation='softmax')\r\n",
        "])\r\n",
        "\r\n",
        "#increasing the learning rate from 0.001 to 0.01\r\n",
        "optimizer = tf.keras.optimizers.Adam(lr=0.01)"
      ],
      "execution_count": 40,
      "outputs": []
    },
    {
      "cell_type": "code",
      "metadata": {
        "colab": {
          "base_uri": "https://localhost:8080/"
        },
        "id": "mqsWrRKYquQB",
        "outputId": "e20f4004-51d6-4026-b513-e878361b85b9"
      },
      "source": [
        "model.compile(optimizer=optimizer, loss='categorical_crossentropy',\r\n",
        "              metrics=['accuracy'])\r\n",
        "model.summary()"
      ],
      "execution_count": 41,
      "outputs": [
        {
          "output_type": "stream",
          "text": [
            "Model: \"sequential_6\"\n",
            "_________________________________________________________________\n",
            "Layer (type)                 Output Shape              Param #   \n",
            "=================================================================\n",
            "dense_16 (Dense)             (None, 200)               157000    \n",
            "_________________________________________________________________\n",
            "dense_17 (Dense)             (None, 60)                12060     \n",
            "_________________________________________________________________\n",
            "dense_18 (Dense)             (None, 10)                610       \n",
            "=================================================================\n",
            "Total params: 169,670\n",
            "Trainable params: 169,670\n",
            "Non-trainable params: 0\n",
            "_________________________________________________________________\n"
          ],
          "name": "stdout"
        }
      ]
    },
    {
      "cell_type": "code",
      "metadata": {
        "colab": {
          "base_uri": "https://localhost:8080/"
        },
        "id": "GuhoFeiQq6OT",
        "outputId": "0798fa9d-d10f-449b-fc92-43a314a24c3d"
      },
      "source": [
        "steps_per_epoch = 60000 // BATCH_SIZE\r\n",
        "print(\"steps per epoch: \", steps_per_epoch)\r\n",
        "\r\n",
        "def lr_decay(epoch):\r\n",
        "  return 0.01 * math.pow(0.6, epoch)\r\n",
        "\r\n",
        "lr_decay_callback = tf.keras.callbacks.LearningRateScheduler(lr_decay, verbose=True)\r\n",
        "\r\n",
        "history = model.fit(training_dataset, steps_per_epoch=steps_per_epoch, \r\n",
        "                    epochs=EPOCHS, validation_data=validation_dataset, validation_steps=1)"
      ],
      "execution_count": 43,
      "outputs": [
        {
          "output_type": "stream",
          "text": [
            "steps per epoch:  468\n",
            "Epoch 1/10\n",
            "468/468 [==============================] - 2s 4ms/step - loss: 0.3775 - accuracy: 0.8799 - val_loss: 0.1322 - val_accuracy: 0.9587\n",
            "Epoch 2/10\n",
            "468/468 [==============================] - 2s 4ms/step - loss: 0.1237 - accuracy: 0.9629 - val_loss: 0.1221 - val_accuracy: 0.9653\n",
            "Epoch 3/10\n",
            "468/468 [==============================] - 2s 4ms/step - loss: 0.0960 - accuracy: 0.9710 - val_loss: 0.1082 - val_accuracy: 0.9694\n",
            "Epoch 4/10\n",
            "468/468 [==============================] - 2s 4ms/step - loss: 0.0913 - accuracy: 0.9718 - val_loss: 0.1166 - val_accuracy: 0.9696\n",
            "Epoch 5/10\n",
            "468/468 [==============================] - 2s 4ms/step - loss: 0.0777 - accuracy: 0.9768 - val_loss: 0.1515 - val_accuracy: 0.9650\n",
            "Epoch 6/10\n",
            "468/468 [==============================] - 2s 4ms/step - loss: 0.0678 - accuracy: 0.9799 - val_loss: 0.1353 - val_accuracy: 0.9683\n",
            "Epoch 7/10\n",
            "468/468 [==============================] - 2s 4ms/step - loss: 0.0624 - accuracy: 0.9813 - val_loss: 0.1450 - val_accuracy: 0.9678\n",
            "Epoch 8/10\n",
            "468/468 [==============================] - 2s 4ms/step - loss: 0.0633 - accuracy: 0.9816 - val_loss: 0.1490 - val_accuracy: 0.9690\n",
            "Epoch 9/10\n",
            "468/468 [==============================] - 2s 4ms/step - loss: 0.0592 - accuracy: 0.9839 - val_loss: 0.1406 - val_accuracy: 0.9690\n",
            "Epoch 10/10\n",
            "468/468 [==============================] - 2s 4ms/step - loss: 0.0512 - accuracy: 0.9849 - val_loss: 0.1510 - val_accuracy: 0.9722\n"
          ],
          "name": "stdout"
        }
      ]
    },
    {
      "cell_type": "markdown",
      "metadata": {
        "id": "joYuNp4bsJJA"
      },
      "source": [
        "##Dropout"
      ]
    },
    {
      "cell_type": "code",
      "metadata": {
        "colab": {
          "base_uri": "https://localhost:8080/"
        },
        "id": "1O-28Aoqs1vC",
        "outputId": "e34f59e2-402d-4112-e975-d41588a349fa"
      },
      "source": [
        "#adding dropout of 25%\r\n",
        "\r\n",
        "model = tf.keras.Sequential([\r\n",
        "                             tf.keras.Input(shape=(28*28, )),\r\n",
        "                             tf.keras.layers.Dense(200, activation='relu'),\r\n",
        "                             tf.keras.layers.Dropout(0.25),\r\n",
        "                             tf.keras.layers.Dense(100, activation='relu'),\r\n",
        "                             tf.keras.layers.Dropout(0.25),\r\n",
        "                             tf.keras.layers.Dense(60, activation='relu'),\r\n",
        "                             tf.keras.layers.Dropout(0.25),\r\n",
        "                             tf.keras.layers.Dense(10, activation='softmax')\r\n",
        "])\r\n",
        "\r\n",
        "optimizer = tf.keras.optimizers.Adam(lr=0.01)\r\n",
        "\r\n",
        "model.compile(optimizer=optimizer, loss='categorical_crossentropy',\r\n",
        "              metrics=['accuracy'])\r\n",
        "model.summary()"
      ],
      "execution_count": 46,
      "outputs": [
        {
          "output_type": "stream",
          "text": [
            "Model: \"sequential_9\"\n",
            "_________________________________________________________________\n",
            "Layer (type)                 Output Shape              Param #   \n",
            "=================================================================\n",
            "dense_27 (Dense)             (None, 200)               157000    \n",
            "_________________________________________________________________\n",
            "dropout_6 (Dropout)          (None, 200)               0         \n",
            "_________________________________________________________________\n",
            "dense_28 (Dense)             (None, 100)               20100     \n",
            "_________________________________________________________________\n",
            "dropout_7 (Dropout)          (None, 100)               0         \n",
            "_________________________________________________________________\n",
            "dense_29 (Dense)             (None, 60)                6060      \n",
            "_________________________________________________________________\n",
            "dropout_8 (Dropout)          (None, 60)                0         \n",
            "_________________________________________________________________\n",
            "dense_30 (Dense)             (None, 10)                610       \n",
            "=================================================================\n",
            "Total params: 183,770\n",
            "Trainable params: 183,770\n",
            "Non-trainable params: 0\n",
            "_________________________________________________________________\n"
          ],
          "name": "stdout"
        }
      ]
    },
    {
      "cell_type": "code",
      "metadata": {
        "colab": {
          "base_uri": "https://localhost:8080/"
        },
        "id": "_WTZR-n1tkAw",
        "outputId": "d89f4568-9056-443a-951f-9ee524618fce"
      },
      "source": [
        "steps_per_epoch=60000 // BATCH_SIZE\r\n",
        "print(\"Steps per epoch: \", steps_per_epoch)\r\n",
        "\r\n",
        "def lr_decay(epoch):\r\n",
        "  return 0.01 * math.pow(0.6, epoch)\r\n",
        "\r\n",
        "lr_decay_callback = tf.keras.callbacks.LearningRateScheduler(lr_decay, verbose=True)\r\n",
        "\r\n",
        "history = model.fit(training_dataset, steps_per_epoch=steps_per_epoch, epochs=EPOCHS, \r\n",
        "                    validation_data=validation_dataset, validation_steps=1, callbacks=[lr_decay_callback])"
      ],
      "execution_count": 47,
      "outputs": [
        {
          "output_type": "stream",
          "text": [
            "Steps per epoch:  468\n",
            "Epoch 1/10\n",
            "468/468 [==============================] - 3s 5ms/step - loss: 0.5968 - accuracy: 0.8187 - val_loss: 0.1745 - val_accuracy: 0.9522\n",
            "Epoch 2/10\n",
            "468/468 [==============================] - 2s 4ms/step - loss: 0.2722 - accuracy: 0.9287 - val_loss: 0.1713 - val_accuracy: 0.9549\n",
            "Epoch 3/10\n",
            "468/468 [==============================] - 2s 4ms/step - loss: 0.2500 - accuracy: 0.9350 - val_loss: 0.1415 - val_accuracy: 0.9597\n",
            "Epoch 4/10\n",
            "468/468 [==============================] - 2s 4ms/step - loss: 0.2378 - accuracy: 0.9398 - val_loss: 0.1459 - val_accuracy: 0.9627\n",
            "Epoch 5/10\n",
            "468/468 [==============================] - 2s 4ms/step - loss: 0.2219 - accuracy: 0.9438 - val_loss: 0.1520 - val_accuracy: 0.9638\n",
            "Epoch 6/10\n",
            "468/468 [==============================] - 2s 4ms/step - loss: 0.2152 - accuracy: 0.9473 - val_loss: 0.1666 - val_accuracy: 0.9648\n",
            "Epoch 7/10\n",
            "468/468 [==============================] - 2s 4ms/step - loss: 0.1955 - accuracy: 0.9499 - val_loss: 0.1583 - val_accuracy: 0.9625\n",
            "Epoch 8/10\n",
            "468/468 [==============================] - 2s 4ms/step - loss: 0.2016 - accuracy: 0.9502 - val_loss: 0.1655 - val_accuracy: 0.9628\n",
            "Epoch 9/10\n",
            "468/468 [==============================] - 2s 4ms/step - loss: 0.2006 - accuracy: 0.9503 - val_loss: 0.1611 - val_accuracy: 0.9652\n",
            "Epoch 10/10\n",
            "468/468 [==============================] - 2s 4ms/step - loss: 0.2055 - accuracy: 0.9502 - val_loss: 0.1381 - val_accuracy: 0.9697\n"
          ],
          "name": "stdout"
        }
      ]
    },
    {
      "cell_type": "markdown",
      "metadata": {
        "id": "PnmkCU4ouoof"
      },
      "source": [
        "##Convolutional Networks"
      ]
    },
    {
      "cell_type": "code",
      "metadata": {
        "colab": {
          "base_uri": "https://localhost:8080/"
        },
        "id": "oO1nRaDuuqvA",
        "outputId": "63027c06-7425-4309-9f92-03079c9daa72"
      },
      "source": [
        "model = tf.keras.Sequential(\r\n",
        "    [\r\n",
        "     tf.keras.layers.Reshape(input_shape=(28*28, ), target_shape=(28, 28, 1)),\r\n",
        "     tf.keras.layers.Conv2D(kernel_size=3, filters=12, activation='relu', padding='same'),\r\n",
        "     tf.keras.layers.Conv2D(kernel_size=6, filters=24, activation='relu', padding='same', strides=2),\r\n",
        "     tf.keras.layers.Conv2D(kernel_size=6, filters=32, activation='relu', padding='same', strides=2),\r\n",
        "     tf.keras.layers.Flatten(),\r\n",
        "     tf.keras.layers.Dense(200, activation='relu'),\r\n",
        "     tf.keras.layers.Dense(10, activation='softmax')\r\n",
        "\r\n",
        "    ]\r\n",
        ")\r\n",
        "\r\n",
        "optimizer=tf.keras.optimizers.Adam(lr=0.01)\r\n",
        "\r\n",
        "model.compile(optimizer=optimizer, loss='categorical_crossentropy',\r\n",
        "              metrics=['accuracy'])\r\n",
        "\r\n",
        "model.summary()"
      ],
      "execution_count": 52,
      "outputs": [
        {
          "output_type": "stream",
          "text": [
            "Model: \"sequential_10\"\n",
            "_________________________________________________________________\n",
            "Layer (type)                 Output Shape              Param #   \n",
            "=================================================================\n",
            "reshape (Reshape)            (None, 28, 28, 1)         0         \n",
            "_________________________________________________________________\n",
            "conv2d (Conv2D)              (None, 28, 28, 12)        120       \n",
            "_________________________________________________________________\n",
            "conv2d_1 (Conv2D)            (None, 14, 14, 24)        10392     \n",
            "_________________________________________________________________\n",
            "conv2d_2 (Conv2D)            (None, 7, 7, 32)          27680     \n",
            "_________________________________________________________________\n",
            "flatten (Flatten)            (None, 1568)              0         \n",
            "_________________________________________________________________\n",
            "dense_31 (Dense)             (None, 200)               313800    \n",
            "_________________________________________________________________\n",
            "dense_32 (Dense)             (None, 10)                2010      \n",
            "=================================================================\n",
            "Total params: 354,002\n",
            "Trainable params: 354,002\n",
            "Non-trainable params: 0\n",
            "_________________________________________________________________\n"
          ],
          "name": "stdout"
        }
      ]
    },
    {
      "cell_type": "code",
      "metadata": {
        "id": "PkN_w-gMv-Cm"
      },
      "source": [
        "def lr_decay(epoch):\r\n",
        "  return 0.01 * math.pow(0.6, epoch)\r\n",
        "\r\n",
        "  lr_decay_callback = tf.keras.callbacks.LearningRateScheduler(lr_decay, verbose=True)\r\n",
        "\r\n",
        "  plot_learning_rate(lr_decay, EPOCHS)"
      ],
      "execution_count": 53,
      "outputs": []
    },
    {
      "cell_type": "code",
      "metadata": {
        "colab": {
          "base_uri": "https://localhost:8080/"
        },
        "id": "1vEvLtC7wk6g",
        "outputId": "19299f62-2122-4b17-b303-9378954ca72e"
      },
      "source": [
        "steps_per_epoch = 60000//BATCH_SIZE\r\n",
        "print(\"steps per epoch: \", steps_per_epoch)\r\n",
        "\r\n",
        "history = model.fit(training_dataset, steps_per_epoch=steps_per_epoch, epochs=EPOCHS, \r\n",
        "                    validation_data=validation_dataset, validation_steps=1, \r\n",
        "                    callbacks=[lr_decay_callback])"
      ],
      "execution_count": 55,
      "outputs": [
        {
          "output_type": "stream",
          "text": [
            "steps per epoch:  468\n",
            "Epoch 1/10\n",
            "\n",
            "Epoch 00001: LearningRateScheduler reducing learning rate to 0.01.\n",
            "468/468 [==============================] - 9s 8ms/step - loss: 0.3676 - accuracy: 0.8830 - val_loss: 0.0728 - val_accuracy: 0.9752\n",
            "Epoch 2/10\n",
            "\n",
            "Epoch 00002: LearningRateScheduler reducing learning rate to 0.006.\n",
            "468/468 [==============================] - 3s 6ms/step - loss: 0.0494 - accuracy: 0.9848 - val_loss: 0.0514 - val_accuracy: 0.9853\n",
            "Epoch 3/10\n",
            "\n",
            "Epoch 00003: LearningRateScheduler reducing learning rate to 0.0036.\n",
            "468/468 [==============================] - 3s 6ms/step - loss: 0.0248 - accuracy: 0.9922 - val_loss: 0.0346 - val_accuracy: 0.9898\n",
            "Epoch 4/10\n",
            "\n",
            "Epoch 00004: LearningRateScheduler reducing learning rate to 0.0021599999999999996.\n",
            "468/468 [==============================] - 3s 6ms/step - loss: 0.0112 - accuracy: 0.9966 - val_loss: 0.0373 - val_accuracy: 0.9902\n",
            "Epoch 5/10\n",
            "\n",
            "Epoch 00005: LearningRateScheduler reducing learning rate to 0.001296.\n",
            "468/468 [==============================] - 3s 6ms/step - loss: 0.0041 - accuracy: 0.9988 - val_loss: 0.0383 - val_accuracy: 0.9913\n",
            "Epoch 6/10\n",
            "\n",
            "Epoch 00006: LearningRateScheduler reducing learning rate to 0.0007775999999999998.\n",
            "468/468 [==============================] - 3s 6ms/step - loss: 0.0019 - accuracy: 0.9995 - val_loss: 0.0399 - val_accuracy: 0.9911\n",
            "Epoch 7/10\n",
            "\n",
            "Epoch 00007: LearningRateScheduler reducing learning rate to 0.0004665599999999999.\n",
            "468/468 [==============================] - 3s 6ms/step - loss: 5.6840e-04 - accuracy: 0.9998 - val_loss: 0.0421 - val_accuracy: 0.9913\n",
            "Epoch 8/10\n",
            "\n",
            "Epoch 00008: LearningRateScheduler reducing learning rate to 0.00027993599999999994.\n",
            "468/468 [==============================] - 3s 6ms/step - loss: 2.7597e-04 - accuracy: 1.0000 - val_loss: 0.0438 - val_accuracy: 0.9910\n",
            "Epoch 9/10\n",
            "\n",
            "Epoch 00009: LearningRateScheduler reducing learning rate to 0.00016796159999999993.\n",
            "468/468 [==============================] - 3s 6ms/step - loss: 1.9315e-04 - accuracy: 1.0000 - val_loss: 0.0450 - val_accuracy: 0.9910\n",
            "Epoch 10/10\n",
            "\n",
            "Epoch 00010: LearningRateScheduler reducing learning rate to 0.00010077695999999997.\n",
            "468/468 [==============================] - 3s 6ms/step - loss: 1.5123e-04 - accuracy: 1.0000 - val_loss: 0.0458 - val_accuracy: 0.9911\n"
          ],
          "name": "stdout"
        }
      ]
    },
    {
      "cell_type": "markdown",
      "metadata": {
        "id": "7k9Iy3TlxDlS"
      },
      "source": [
        "##Batch Normalization\r\n",
        "\r\n"
      ]
    },
    {
      "cell_type": "code",
      "metadata": {
        "colab": {
          "base_uri": "https://localhost:8080/"
        },
        "id": "IA2HPhWKw5Tq",
        "outputId": "ece20e5e-f3a7-43c8-d0eb-506bd71a2d17"
      },
      "source": [
        "model = tf.keras.Sequential(\r\n",
        "    [\r\n",
        "     tf.keras.layers.Reshape(input_shape=(28*28,), target_shape=(28, 28, 1)),\r\n",
        "     tf.keras.layers.Conv2D(kernel_size=3, filters=12, use_bias=False, padding='same'),\r\n",
        "     tf.keras.layers.BatchNormalization(center=True, scale=False),\r\n",
        "     tf.keras.layers.Activation('relu'),\r\n",
        "     tf.keras.layers.Conv2D(kernel_size=6, filters=24, use_bias=False, padding='same', strides=2),\r\n",
        "     tf.keras.layers.BatchNormalization(center=True, scale=False),\r\n",
        "     tf.keras.layers.Activation('relu'),\r\n",
        "     tf.keras.layers.Conv2D(kernel_size=6, filters=32, use_bias=False, padding='same', strides=2),\r\n",
        "     tf.keras.layers.BatchNormalization(center=True, scale=False),\r\n",
        "     tf.keras.layers.Activation('relu'),\r\n",
        "     tf.keras.layers.Flatten(),\r\n",
        "     tf.keras.layers.Dense(200, use_bias=False),\r\n",
        "     tf.keras.layers.BatchNormalization(center=True, scale=False),\r\n",
        "     tf.keras.layers.Activation('relu'),\r\n",
        "     tf.keras.layers.Dropout(0.3),\r\n",
        "     tf.keras.layers.Dense(10, activation='softmax')\r\n",
        "    ]\r\n",
        ")\r\n",
        "\r\n",
        "optimizer=tf.keras.optimizers.Adam(lr=0.01)\r\n",
        "\r\n",
        "model.compile(optimizer=optimizer, loss='categorical_crossentropy',\r\n",
        "              metrics=['accuracy'])\r\n",
        "\r\n",
        "model.summary()"
      ],
      "execution_count": 58,
      "outputs": [
        {
          "output_type": "stream",
          "text": [
            "Model: \"sequential_11\"\n",
            "_________________________________________________________________\n",
            "Layer (type)                 Output Shape              Param #   \n",
            "=================================================================\n",
            "reshape_1 (Reshape)          (None, 28, 28, 1)         0         \n",
            "_________________________________________________________________\n",
            "conv2d_3 (Conv2D)            (None, 28, 28, 12)        108       \n",
            "_________________________________________________________________\n",
            "batch_normalization (BatchNo (None, 28, 28, 12)        36        \n",
            "_________________________________________________________________\n",
            "activation (Activation)      (None, 28, 28, 12)        0         \n",
            "_________________________________________________________________\n",
            "conv2d_4 (Conv2D)            (None, 14, 14, 24)        10368     \n",
            "_________________________________________________________________\n",
            "batch_normalization_1 (Batch (None, 14, 14, 24)        72        \n",
            "_________________________________________________________________\n",
            "activation_1 (Activation)    (None, 14, 14, 24)        0         \n",
            "_________________________________________________________________\n",
            "conv2d_5 (Conv2D)            (None, 7, 7, 32)          27648     \n",
            "_________________________________________________________________\n",
            "batch_normalization_2 (Batch (None, 7, 7, 32)          96        \n",
            "_________________________________________________________________\n",
            "activation_2 (Activation)    (None, 7, 7, 32)          0         \n",
            "_________________________________________________________________\n",
            "flatten_1 (Flatten)          (None, 1568)              0         \n",
            "_________________________________________________________________\n",
            "dense_33 (Dense)             (None, 200)               313600    \n",
            "_________________________________________________________________\n",
            "batch_normalization_3 (Batch (None, 200)               600       \n",
            "_________________________________________________________________\n",
            "activation_3 (Activation)    (None, 200)               0         \n",
            "_________________________________________________________________\n",
            "dropout_9 (Dropout)          (None, 200)               0         \n",
            "_________________________________________________________________\n",
            "dense_34 (Dense)             (None, 10)                2010      \n",
            "=================================================================\n",
            "Total params: 354,538\n",
            "Trainable params: 354,002\n",
            "Non-trainable params: 536\n",
            "_________________________________________________________________\n"
          ],
          "name": "stdout"
        }
      ]
    },
    {
      "cell_type": "code",
      "metadata": {
        "colab": {
          "base_uri": "https://localhost:8080/"
        },
        "id": "KPM4LpPUzXzO",
        "outputId": "16b297e4-bd24-43c8-f8dc-a9c32fc2cf2f"
      },
      "source": [
        "steps_per_epoch = 60000//BATCH_SIZE\r\n",
        "print(\"steps per epoch: \", steps_per_epoch)\r\n",
        "\r\n",
        "history = model.fit(training_dataset, steps_per_epoch=steps_per_epoch, epochs=EPOCHS, \r\n",
        "                    validation_data=validation_dataset, validation_steps=1, \r\n",
        "                    callbacks=[lr_decay_callback])"
      ],
      "execution_count": 59,
      "outputs": [
        {
          "output_type": "stream",
          "text": [
            "steps per epoch:  468\n",
            "Epoch 1/10\n",
            "\n",
            "Epoch 00001: LearningRateScheduler reducing learning rate to 0.01.\n",
            "468/468 [==============================] - 4s 8ms/step - loss: 0.2327 - accuracy: 0.9299 - val_loss: 0.0636 - val_accuracy: 0.9798\n",
            "Epoch 2/10\n",
            "\n",
            "Epoch 00002: LearningRateScheduler reducing learning rate to 0.006.\n",
            "468/468 [==============================] - 3s 6ms/step - loss: 0.0439 - accuracy: 0.9864 - val_loss: 0.0570 - val_accuracy: 0.9805\n",
            "Epoch 3/10\n",
            "\n",
            "Epoch 00003: LearningRateScheduler reducing learning rate to 0.0036.\n",
            "468/468 [==============================] - 3s 7ms/step - loss: 0.0259 - accuracy: 0.9922 - val_loss: 0.0239 - val_accuracy: 0.9912\n",
            "Epoch 4/10\n",
            "\n",
            "Epoch 00004: LearningRateScheduler reducing learning rate to 0.0021599999999999996.\n",
            "468/468 [==============================] - 3s 6ms/step - loss: 0.0161 - accuracy: 0.9947 - val_loss: 0.0235 - val_accuracy: 0.9919\n",
            "Epoch 5/10\n",
            "\n",
            "Epoch 00005: LearningRateScheduler reducing learning rate to 0.001296.\n",
            "468/468 [==============================] - 3s 7ms/step - loss: 0.0100 - accuracy: 0.9969 - val_loss: 0.0210 - val_accuracy: 0.9928\n",
            "Epoch 6/10\n",
            "\n",
            "Epoch 00006: LearningRateScheduler reducing learning rate to 0.0007775999999999998.\n",
            "468/468 [==============================] - 3s 6ms/step - loss: 0.0075 - accuracy: 0.9980 - val_loss: 0.0186 - val_accuracy: 0.9941\n",
            "Epoch 7/10\n",
            "\n",
            "Epoch 00007: LearningRateScheduler reducing learning rate to 0.0004665599999999999.\n",
            "468/468 [==============================] - 3s 7ms/step - loss: 0.0050 - accuracy: 0.9985 - val_loss: 0.0190 - val_accuracy: 0.9946\n",
            "Epoch 8/10\n",
            "\n",
            "Epoch 00008: LearningRateScheduler reducing learning rate to 0.00027993599999999994.\n",
            "468/468 [==============================] - 3s 6ms/step - loss: 0.0042 - accuracy: 0.9991 - val_loss: 0.0182 - val_accuracy: 0.9943\n",
            "Epoch 9/10\n",
            "\n",
            "Epoch 00009: LearningRateScheduler reducing learning rate to 0.00016796159999999993.\n",
            "468/468 [==============================] - 3s 7ms/step - loss: 0.0034 - accuracy: 0.9994 - val_loss: 0.0186 - val_accuracy: 0.9944\n",
            "Epoch 10/10\n",
            "\n",
            "Epoch 00010: LearningRateScheduler reducing learning rate to 0.00010077695999999997.\n",
            "468/468 [==============================] - 3s 6ms/step - loss: 0.0033 - accuracy: 0.9990 - val_loss: 0.0182 - val_accuracy: 0.9946\n"
          ],
          "name": "stdout"
        }
      ]
    },
    {
      "cell_type": "code",
      "metadata": {
        "id": "TCFGFpLaziwV"
      },
      "source": [
        ""
      ],
      "execution_count": null,
      "outputs": []
    }
  ]
}
