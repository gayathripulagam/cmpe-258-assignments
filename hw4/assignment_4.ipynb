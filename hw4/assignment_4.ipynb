{
  "nbformat": 4,
  "nbformat_minor": 0,
  "metadata": {
    "colab": {
      "name": "257_Assignment_4.ipynb",
      "provenance": []
    },
    "kernelspec": {
      "name": "python3",
      "display_name": "Python 3"
    },
    "language_info": {
      "name": "python"
    }
  },
  "cells": [
    {
      "cell_type": "code",
      "metadata": {
        "id": "6hwzAOkxPp4y"
      },
      "source": [
        "import sys, numpy as np\n",
        "from keras.datasets import mnist\n",
        "import seaborn as sns\n",
        "import matplotlib.pyplot as plt\n",
        "\n",
        "from sklearn.model_selection import train_test_split\n",
        "from sklearn.metrics import confusion_matrix\n",
        "from sklearn.metrics import accuracy_score\n",
        "\n",
        "from keras.models import Sequential\n",
        "from keras.layers import Dense, Dropout, Flatten, Conv2D, MaxPool2D\n",
        "from keras.preprocessing.image import ImageDataGenerator\n",
        "from keras.utils import to_categorical"
      ],
      "execution_count": 34,
      "outputs": []
    },
    {
      "cell_type": "code",
      "metadata": {
        "id": "DiAND8koQVvs",
        "colab": {
          "base_uri": "https://localhost:8080/"
        },
        "outputId": "a15c0feb-6de7-431b-b698-7a0126ece4a9"
      },
      "source": [
        "#loading the mnist data into train and test sets\n",
        "\n",
        "(x_train, y_train), (x_test, y_test) = mnist.load_data()"
      ],
      "execution_count": 19,
      "outputs": [
        {
          "output_type": "stream",
          "text": [
            "Downloading data from https://storage.googleapis.com/tensorflow/tf-keras-datasets/mnist.npz\n",
            "11493376/11490434 [==============================] - 0s 0us/step\n"
          ],
          "name": "stdout"
        }
      ]
    },
    {
      "cell_type": "code",
      "metadata": {
        "id": "AIbI3PwBQdiY"
      },
      "source": [
        "images, labels = (x_train[0:1000].reshape(1000,28*28)/255, y_train[0:1000])"
      ],
      "execution_count": 20,
      "outputs": []
    },
    {
      "cell_type": "code",
      "metadata": {
        "id": "v0WT8KaPSVG9"
      },
      "source": [
        "#one hot encoding\n",
        "\n",
        "one_hot_labels = np.zeros((len(labels), 10))\n",
        "for i,l in enumerate(labels):\n",
        "  one_hot_labels[i][l] = 1\n",
        "labels = one_hot_labels"
      ],
      "execution_count": 21,
      "outputs": []
    },
    {
      "cell_type": "code",
      "metadata": {
        "id": "YTQfQ-t2Sq3x"
      },
      "source": [
        "test_images = x_test.reshape(len(x_test), 28*28)/255\n",
        "y_test = to_categorical(y_test[0:10000], num_classes=10)"
      ],
      "execution_count": 35,
      "outputs": []
    },
    {
      "cell_type": "code",
      "metadata": {
        "id": "QdS30rZKaUWX",
        "colab": {
          "base_uri": "https://localhost:8080/",
          "height": 323
        },
        "outputId": "8702abc0-4268-4884-c6fe-70d1ff307454"
      },
      "source": [
        "\"g = sns.countplot(y_train)"
      ],
      "execution_count": 7,
      "outputs": [
        {
          "output_type": "stream",
          "text": [
            "/usr/local/lib/python3.7/dist-packages/seaborn/_decorators.py:43: FutureWarning: Pass the following variable as a keyword arg: x. From version 0.12, the only valid positional argument will be `data`, and passing other arguments without an explicit keyword will result in an error or misinterpretation.\n",
            "  FutureWarning\n"
          ],
          "name": "stderr"
        },
        {
          "output_type": "display_data",
          "data": {
            "image/png": "[encoded data removed]",
            "text/plain": [
              "<Figure size 432x288 with 1 Axes>"
            ]
          },
          "metadata": {
            "tags": [],
            "needs_background": "light"
          }
        }
      ]
    },
    {
      "cell_type": "code",
      "metadata": {
        "colab": {
          "base_uri": "https://localhost:8080/",
          "height": 1000
        },
        "id": "cZYAqd6115GB",
        "outputId": "4c64e2c9-93e4-451a-9679-6d9ba765c3db"
      },
      "source": [
        "#visualizations of the digits in mnist\n",
        "\n",
        "for i in range (0,5):\n",
        "  plt.imshow(x_train[i])\n",
        "  plt.show()"
      ],
      "execution_count": 8,
      "outputs": [
        {
          "output_type": "display_data",
          "data": {
            "image/png": "[encoded data removed]",
            "text/plain": [
              "<Figure size 432x288 with 1 Axes>"
            ]
          },
          "metadata": {
            "tags": [],
            "needs_background": "light"
          }
        },
        {
          "output_type": "display_data",
          "data": {
            "image/png": "[encoded data removed]",
            "text/plain": [
              "<Figure size 432x288 with 1 Axes>"
            ]
          },
          "metadata": {
            "tags": [],
            "needs_background": "light"
          }
        },
        {
          "output_type": "display_data",
          "data": {
            "image/png": "[encoded data removed]",
            "text/plain": [
              "<Figure size 432x288 with 1 Axes>"
            ]
          },
          "metadata": {
            "tags": [],
            "needs_background": "light"
          }
        },
        {
          "output_type": "display_data",
          "data": {
            "image/png": "[encoded data removed]",
            "text/plain": [
              "<Figure size 432x288 with 1 Axes>"
            ]
          },
          "metadata": {
            "tags": [],
            "needs_background": "light"
          }
        },
        {
          "output_type": "display_data",
          "data": {
            "image/png": "[encoded data removed]",
            "text/plain": [
              "<Figure size 432x288 with 1 Axes>"
            ]
          },
          "metadata": {
            "tags": [],
            "needs_background": "light"
          }
        }
      ]
    },
    {
      "cell_type": "code",
      "metadata": {
        "id": "yGld7jJ3UVdI"
      },
      "source": [
        "#reshaping train into 3 dimensions \n",
        "\n",
        "reshaped_x_train = x_train.reshape(-1,28,28,1)"
      ],
      "execution_count": 23,
      "outputs": []
    },
    {
      "cell_type": "code",
      "metadata": {
        "id": "Nzwy8tkn25MS"
      },
      "source": [
        "#Data augmentation to supplement the training data\n",
        "\n",
        "datagen = ImageDataGenerator(featurewise_center=False,\n",
        "                             samplewise_center=False,\n",
        "                             featurewise_std_normalization=False,\n",
        "                             samplewise_std_normalization=False,\n",
        "                             zca_whitening=False,\n",
        "                             rotation_range=10,\n",
        "                             zoom_range=0.1,\n",
        "                             width_shift_range=0.1,\n",
        "                             height_shift_range=0.1,\n",
        "                             horizontal_flip=False,\n",
        "                             vertical_flip=False\n",
        "                             )\n",
        "\n",
        "datagen.fit(reshaped_x_train)"
      ],
      "execution_count": 37,
      "outputs": []
    },
    {
      "cell_type": "code",
      "metadata": {
        "colab": {
          "base_uri": "https://localhost:8080/",
          "height": 761
        },
        "id": "DZs832rbrkQX",
        "outputId": "4a27a87b-250f-4d9d-deb0-57031de024f3"
      },
      "source": [
        "for x_augmented, y_augmented in datagen.flow(reshaped_x_train, y_train, batch_size=9):\n",
        "  for i in range (0, 3):\n",
        "    plt.imshow(x_augmented[i].reshape(28, 28))\n",
        "    plt.show()\n",
        "  break"
      ],
      "execution_count": 40,
      "outputs": [
        {
          "output_type": "display_data",
          "data": {
            "image/png": "[encoded data removed]",
            "text/plain": [
              "<Figure size 432x288 with 1 Axes>"
            ]
          },
          "metadata": {
            "tags": [],
            "needs_background": "light"
          }
        },
        {
          "output_type": "display_data",
          "data": {
            "image/png": "[encoded data removed]",
            "text/plain": [
              "<Figure size 432x288 with 1 Axes>"
            ]
          },
          "metadata": {
            "tags": [],
            "needs_background": "light"
          }
        },
        {
          "output_type": "display_data",
          "data": {
            "image/png": "[encoded data removed]",
            "text/plain": [
              "<Figure size 432x288 with 1 Axes>"
            ]
          },
          "metadata": {
            "tags": [],
            "needs_background": "light"
          }
        }
      ]
    },
    {
      "cell_type": "markdown",
      "metadata": {
        "id": "MGTmMtKuZLQf"
      },
      "source": [
        "##**Defining the model along with other necessary functions**"
      ]
    },
    {
      "cell_type": "markdown",
      "metadata": {
        "id": "16IgXQF9TvGd"
      },
      "source": [
        "##**Dropout**"
      ]
    },
    {
      "cell_type": "code",
      "metadata": {
        "id": "90SJ9d7vbAqU"
      },
      "source": [
        "def Dropout(self, activations, dropout_prob=0.5):\n",
        "  #sets half of the activations to zero, takes parameters (activations, numpy array), returns (activations, which half set to zero)\n",
        "  #handle error\n",
        "  if dropout_prob < 0 or dropout_prob > 1:\n",
        "    dropout_prob = 0.5\n",
        "  \n",
        "  #scale the activations\n",
        "  activations /= dropout_prob\n",
        "  mult = np.random.binomal(1, dropout_prob, size=activations.shape)\n",
        "  activations *= mult\n",
        "  return activations"
      ],
      "execution_count": 5,
      "outputs": []
    },
    {
      "cell_type": "markdown",
      "metadata": {
        "id": "BI_magw3U9f5"
      },
      "source": [
        "##**Loss Function**"
      ]
    },
    {
      "cell_type": "code",
      "metadata": {
        "id": "QvZ1WaseUeK-"
      },
      "source": [
        "class MSE:\n",
        "  def __call__(self, y_pred, y_true):\n",
        "    self.y_pred = y_pred\n",
        "    self.y_true = y_true\n",
        "    return ((y_pred - y_true) ** 2).mean()\n",
        "  \n",
        "  def backward(self):\n",
        "    n = self.y_true.shape[0]\n",
        "    self.gradient = 2. * (self.y_pred - self.y_true) / n\n",
        "    print('MSE backward', self.y_pred.shape, self.y_true.shape, self.gradient.shape)\n",
        "    return self.gradient"
      ],
      "execution_count": 2,
      "outputs": []
    },
    {
      "cell_type": "markdown",
      "metadata": {
        "id": "4LiaOIA7VC9K"
      },
      "source": [
        "#**Linear class**"
      ]
    },
    {
      "cell_type": "code",
      "metadata": {
        "id": "ZDDvgih4VCNL"
      },
      "source": [
        "class Linear:\n",
        "  def __init__(self, input_dim: int, num_hidden: int = 1):\n",
        "    self.weights = np.random.randn(input_dim, num_hidden) * np.sqrt(2. / input_dim)\n",
        "    self.bias = np.zeros(num_hidden)\n",
        "\n",
        "  def __call__(self, x):\n",
        "    self.x = x\n",
        "    output = x @ self.weights + self.bias\n",
        "    return output\n",
        "  \n",
        "  def backward(self, gradient):\n",
        "    self.weights_gradient = self.x.T @ gradient\n",
        "    self.bias_gradient = gradient.sum(axis=0)\n",
        "    self.x_gradient = gradient @ self.weights.T\n",
        "    return self.x_gradient\n",
        "  \n",
        "  def update(self, lr):\n",
        "    self.weights = self.weights - lr * self.weights_gradient\n",
        "    self.bias = self.bias - lr * self.bias_gradient"
      ],
      "execution_count": 3,
      "outputs": []
    },
    {
      "cell_type": "markdown",
      "metadata": {
        "id": "Nky0ij2SVPm3"
      },
      "source": [
        "##**ReLU activation layer**"
      ]
    },
    {
      "cell_type": "code",
      "metadata": {
        "id": "s2zRVKsBVOvr"
      },
      "source": [
        "class Relu:\n",
        "  def __call__(self, input_):\n",
        "    self.input_ = input_\n",
        "    self.output = np.clip(self.input_, 0, None)\n",
        "    return self.output\n",
        "  \n",
        "  def backward(self, output_gradient):\n",
        "    self.input_gradient = (self.input_ > 0) * output_gradient\n",
        "    return self.input_gradient"
      ],
      "execution_count": 4,
      "outputs": []
    },
    {
      "cell_type": "markdown",
      "metadata": {
        "id": "ctauo9ReVWRS"
      },
      "source": [
        "##**Defining model class**"
      ]
    },
    {
      "cell_type": "code",
      "metadata": {
        "id": "xUYmo_TwVTyO"
      },
      "source": [
        "#Building a 3 Layer Neural Network model. Choosing 512 neurons as the hidden layer neurons. Output is 10\n",
        "\n",
        "class Model:\n",
        "  def __init__(self, input_dim, num_hidden):\n",
        "    self.linear1 = Linear(input_dim, num_hidden)\n",
        "    self.relu1 = Relu()\n",
        "    self.dropout1 = Dropout(0.45)\n",
        "    self.linear2 = Linear(num_hidden, 512)\n",
        "    self.relu2 = Relu()\n",
        "    self.dropout2 = Dropout(0.35)\n",
        "    self.linear3 = Linear(128, 10)\n",
        "  \n",
        "  def __call__(self, x):\n",
        "    l1 = self.linear1(x)\n",
        "    r1 = self.relu1(l1)\n",
        "    if training:\n",
        "      r1 = self.dropout1(r1)\n",
        "    l2 = self.linear2(r1)\n",
        "    r2 = self.relu2(l2)\n",
        "    if training:\n",
        "      r2 = self.dropout2(r2)\n",
        "    l3 = self.linear3(r2)\n",
        "    return l3\n",
        "  \n",
        "  def backward(self, output_gradient):\n",
        "    linear3_gradient = self.linear3.backward(output_gradient)\n",
        "    relu2_gradient = self.relu2.backward(linear3_gradient)\n",
        "    linear2_gradient = self.linear2.backward(relu2_gradient)\n",
        "\n",
        "    #dropout\n",
        "    linear2_gradient = self.dropout2(linear2_gradient)\n",
        "    relu1_gradient = self.relu1.backward(linear2_gradient)\n",
        "    linear1_gradient = self.linear1.backward(relu1_gradient)\n",
        "\n",
        "    #dropout\n",
        "    linear1_gradient = self.dropout1(linear1_gradient)\n",
        "    return linear1_gradient\n",
        "  \n",
        "  def update(self, lr):\n",
        "    self.linear3.update(lr)\n",
        "    self.linear2.update(lr)\n",
        "    self.linear1.update(lr)"
      ],
      "execution_count": 6,
      "outputs": []
    },
    {
      "cell_type": "code",
      "metadata": {
        "id": "RsqyxBALXpKE"
      },
      "source": [
        "from typing import Callable\n",
        "\n",
        "def fit(x_train: np.ndarray, y_train: np.ndarray, x_test: np.ndarray,\n",
        "        y_test: np.ndarray, model: Callable, loss: Callable,\n",
        "        learning_rate: float, num_epochs: int, batch_size=1):\n",
        "  train_loss, train_acc, test_loss, test_acc = [], [], [], []\n",
        "    \n",
        "  for epoch in range(num_epochs):  \n",
        "    for i in range(int(len(x_train)/batch_size)):\n",
        "      batch_start, batch_end = ((i * batch_size), ((i+1) * batch_size))\n",
        "\n",
        "      y_pred = model(x_train[batch_start:batch_end])\n",
        "      loss_value = loss(y_pred, y_train[batch_start:batch_end])\n",
        "      gradient_from_loss = loss.backward()\n",
        "      model = model.backward(gradient_from_loss)\n",
        "      model = model.update(lr)\n",
        "\n",
        "      \n",
        "    if epoch % 100 == 0:\n",
        "      print('Epoch', epoch)\n",
        "      train_error = loss(y_train, y_pred)\n",
        "      train_accuracy = accuracy_score(y_train, y_pred)\n",
        "      print('Train Loss {train_error}, Train Accuracy {train_accuracy')\n",
        "\n",
        "      train_loss.append(train_error)\n",
        "      train_acc.append(train_accuracy)\n",
        "\n",
        "      test_error = loss(y_test, y_pred)\n",
        "      test_accuracy = accuracy_score(y_test, y_pred)\n",
        "      print('Test Loss {test_error}, Train Accuracy {test_accuracy')\n",
        "\n",
        "      test_loss.append(test_error)\n",
        "      test_acc.append(test_accuracy)\n",
        "\n",
        "  return train_loss, train_acc, test_loss, test_acc\n",
        "         "
      ],
      "execution_count": 60,
      "outputs": []
    },
    {
      "cell_type": "code",
      "metadata": {
        "colab": {
          "base_uri": "https://localhost:8080/",
          "height": 352
        },
        "id": "ey_GVmQPlDvi",
        "outputId": "f2245b9f-d8da-47f0-d477-390a457de944"
      },
      "source": [
        "loss = MSE()\n",
        "model = Model(784, 512)\n",
        "train_acc, test_acc, test_loss, test_acc = fit(x_augmented, y_augmented, test_images, y_test,\n",
        "                          model=model, loss=loss, learning_rate=0.02, num_epochs=50, \n",
        "                          batch_size=100)"
      ],
      "execution_count": 61,
      "outputs": [
        {
          "output_type": "stream",
          "text": [
            "Epoch 0\n"
          ],
          "name": "stdout"
        },
        {
          "output_type": "error",
          "ename": "UnboundLocalError",
          "evalue": "ignored",
          "traceback": [
            "\u001b[0;31m---------------------------------------------------------------------------\u001b[0m",
            "\u001b[0;31mUnboundLocalError\u001b[0m                         Traceback (most recent call last)",
            "\u001b[0;32m<ipython-input-61-bde5cf4a2c23>\u001b[0m in \u001b[0;36m<module>\u001b[0;34m()\u001b[0m\n\u001b[1;32m      3\u001b[0m train_acc, test_acc, test_loss, test_acc = fit(x_augmented, y_augmented, test_images, y_test,\n\u001b[1;32m      4\u001b[0m                           \u001b[0mmodel\u001b[0m\u001b[0;34m=\u001b[0m\u001b[0mmodel\u001b[0m\u001b[0;34m,\u001b[0m \u001b[0mloss\u001b[0m\u001b[0;34m=\u001b[0m\u001b[0mloss\u001b[0m\u001b[0;34m,\u001b[0m \u001b[0mlearning_rate\u001b[0m\u001b[0;34m=\u001b[0m\u001b[0;36m0.02\u001b[0m\u001b[0;34m,\u001b[0m \u001b[0mnum_epochs\u001b[0m\u001b[0;34m=\u001b[0m\u001b[0;36m50\u001b[0m\u001b[0;34m,\u001b[0m\u001b[0;34m\u001b[0m\u001b[0;34m\u001b[0m\u001b[0m\n\u001b[0;32m----> 5\u001b[0;31m                           batch_size=100)\n\u001b[0m",
            "\u001b[0;32m<ipython-input-60-23551d61203f>\u001b[0m in \u001b[0;36mfit\u001b[0;34m(x_train, y_train, x_test, y_test, model, loss, learning_rate, num_epochs, batch_size)\u001b[0m\n\u001b[1;32m     19\u001b[0m     \u001b[0;32mif\u001b[0m \u001b[0mepoch\u001b[0m \u001b[0;34m%\u001b[0m \u001b[0;36m100\u001b[0m \u001b[0;34m==\u001b[0m \u001b[0;36m0\u001b[0m\u001b[0;34m:\u001b[0m\u001b[0;34m\u001b[0m\u001b[0;34m\u001b[0m\u001b[0m\n\u001b[1;32m     20\u001b[0m       \u001b[0mprint\u001b[0m\u001b[0;34m(\u001b[0m\u001b[0;34m'Epoch'\u001b[0m\u001b[0;34m,\u001b[0m \u001b[0mepoch\u001b[0m\u001b[0;34m)\u001b[0m\u001b[0;34m\u001b[0m\u001b[0;34m\u001b[0m\u001b[0m\n\u001b[0;32m---> 21\u001b[0;31m       \u001b[0mtrain_error\u001b[0m \u001b[0;34m=\u001b[0m \u001b[0mloss\u001b[0m\u001b[0;34m(\u001b[0m\u001b[0my_train\u001b[0m\u001b[0;34m,\u001b[0m \u001b[0my_pred\u001b[0m\u001b[0;34m)\u001b[0m\u001b[0;34m\u001b[0m\u001b[0;34m\u001b[0m\u001b[0m\n\u001b[0m\u001b[1;32m     22\u001b[0m       \u001b[0mtrain_accuracy\u001b[0m \u001b[0;34m=\u001b[0m \u001b[0maccuracy_score\u001b[0m\u001b[0;34m(\u001b[0m\u001b[0my_train\u001b[0m\u001b[0;34m,\u001b[0m \u001b[0my_pred\u001b[0m\u001b[0;34m)\u001b[0m\u001b[0;34m\u001b[0m\u001b[0;34m\u001b[0m\u001b[0m\n\u001b[1;32m     23\u001b[0m       \u001b[0mprint\u001b[0m\u001b[0;34m(\u001b[0m\u001b[0;34m'Train Loss {train_error}, Train Accuracy {train_accuracy'\u001b[0m\u001b[0;34m)\u001b[0m\u001b[0;34m\u001b[0m\u001b[0;34m\u001b[0m\u001b[0m\n",
            "\u001b[0;31mUnboundLocalError\u001b[0m: local variable 'y_pred' referenced before assignment"
          ]
        }
      ]
    },
    {
      "cell_type": "code",
      "metadata": {
        "id": "Kf_7uyNdtjtT"
      },
      "source": [
        ""
      ],
      "execution_count": null,
      "outputs": []
    }
  ]
}