{
  "nbformat": 4,
  "nbformat_minor": 0,
  "metadata": {
    "colab": {
      "name": "assignment_four.ipynb",
      "provenance": []
    },
    "kernelspec": {
      "name": "python3",
      "display_name": "Python 3"
    },
    "language_info": {
      "name": "python"
    }
  },
  "cells": [
    {
      "cell_type": "markdown",
      "metadata": {
        "id": "2dx6kfBIuILs"
      },
      "source": [
        "#**Assignment 4 - MNIST classifier - Neural net using pure numpy and keras**"
      ]
    },
    {
      "cell_type": "code",
      "metadata": {
        "id": "6hwzAOkxPp4y",
        "colab": {
          "base_uri": "https://localhost:8080/"
        },
        "outputId": "341ff9a5-ecb9-4039-e1e1-a7d460fce460"
      },
      "source": [
        "import sys, numpy as np\n",
        "from keras.datasets import mnist\n",
        "import seaborn as sns\n",
        "import matplotlib.pyplot as plt\n",
        "\n",
        "from sklearn.model_selection import train_test_split\n",
        "from sklearn.metrics import confusion_matrix\n",
        "from sklearn.metrics import jaccard_score\n",
        "\n",
        "from keras.models import Sequential\n",
        "from keras.layers import Dense, Dropout, Flatten, Conv2D, MaxPool2D, Reshape\n",
        "from keras.preprocessing.image import ImageDataGenerator\n",
        "from keras.utils import to_categorical\n",
        "\n",
        "import tensorflow.compat.v1 as tf \n",
        "tf.disable_v2_behavior()"
      ],
      "execution_count": 1,
      "outputs": [
        {
          "output_type": "stream",
          "text": [
            "WARNING:tensorflow:From /usr/local/lib/python3.7/dist-packages/tensorflow/python/compat/v2_compat.py:96: disable_resource_variables (from tensorflow.python.ops.variable_scope) is deprecated and will be removed in a future version.\n",
            "Instructions for updating:\n",
            "non-resource variables are not supported in the long term\n"
          ],
          "name": "stdout"
        }
      ]
    },
    {
      "cell_type": "code",
      "metadata": {
        "id": "DiAND8koQVvs"
      },
      "source": [
        "#loading the mnist data into train and test sets\n",
        "\n",
        "(x_train, y_train), (x_test, y_test) = mnist.load_data()"
      ],
      "execution_count": 2,
      "outputs": []
    },
    {
      "cell_type": "code",
      "metadata": {
        "id": "AIbI3PwBQdiY"
      },
      "source": [
        "train_images, train_labels = (x_train[0:1000].reshape(1000,28*28)/255, y_train[0:1000])\n",
        "test_images, test_labels = (x_test[0:1000].reshape(1000,28*28)/255, y_test[0:1000])"
      ],
      "execution_count": 3,
      "outputs": []
    },
    {
      "cell_type": "code",
      "metadata": {
        "id": "v0WT8KaPSVG9"
      },
      "source": [
        "#one hot encoding for train labels\n",
        "\n",
        "y_train = np.zeros((len(train_labels), 10))\n",
        "for i,l in enumerate(train_labels):\n",
        "  y_train[i][l] = 1"
      ],
      "execution_count": 4,
      "outputs": []
    },
    {
      "cell_type": "code",
      "metadata": {
        "id": "YTQfQ-t2Sq3x"
      },
      "source": [
        "#one hot encoding for test labels\n",
        "\n",
        "y_test = np.zeros((len(test_labels), 10))\n",
        "for i, l in enumerate(test_labels):\n",
        "  y_test[i][l] = 1"
      ],
      "execution_count": 5,
      "outputs": []
    },
    {
      "cell_type": "code",
      "metadata": {
        "id": "QdS30rZKaUWX",
        "colab": {
          "base_uri": "https://localhost:8080/",
          "height": 321
        },
        "outputId": "3d3cd455-cecb-4958-d257-c96d17d23152"
      },
      "source": [
        "g = sns.countplot(train_labels)"
      ],
      "execution_count": 6,
      "outputs": [
        {
          "output_type": "stream",
          "text": [
            "/usr/local/lib/python3.7/dist-packages/seaborn/_decorators.py:43: FutureWarning: Pass the following variable as a keyword arg: x. From version 0.12, the only valid positional argument will be `data`, and passing other arguments without an explicit keyword will result in an error or misinterpretation.\n",
            "  FutureWarning\n"
          ],
          "name": "stderr"
        },
        {
          "output_type": "display_data",
          "data": {
            "image/png": "[encoded data removed]",
            "text/plain": [
              "<Figure size 432x288 with 1 Axes>"
            ]
          },
          "metadata": {
            "tags": [],
            "needs_background": "light"
          }
        }
      ]
    },
    {
      "cell_type": "code",
      "metadata": {
        "colab": {
          "base_uri": "https://localhost:8080/",
          "height": 1000
        },
        "id": "cZYAqd6115GB",
        "outputId": "ea0fd39a-e8f8-4ea0-b6e2-92dee21a2c08"
      },
      "source": [
        "#visualizations of the digits in mnist\n",
        "\n",
        "for i in range (0,5):\n",
        "  plt.imshow(x_train[i])\n",
        "  plt.show()"
      ],
      "execution_count": 7,
      "outputs": [
        {
          "output_type": "display_data",
          "data": {
            "image/png": "[encoded data removed]",
            "text/plain": [
              "<Figure size 432x288 with 1 Axes>"
            ]
          },
          "metadata": {
            "tags": [],
            "needs_background": "light"
          }
        },
        {
          "output_type": "display_data",
          "data": {
            "image/png": "[encoded data removed]",
            "text/plain": [
              "<Figure size 432x288 with 1 Axes>"
            ]
          },
          "metadata": {
            "tags": [],
            "needs_background": "light"
          }
        },
        {
          "output_type": "display_data",
          "data": {
            "image/png": "[encoded data removed]",
            "text/plain": [
              "<Figure size 432x288 with 1 Axes>"
            ]
          },
          "metadata": {
            "tags": [],
            "needs_background": "light"
          }
        },
        {
          "output_type": "display_data",
          "data": {
            "image/png": "[encoded data removed]",
            "text/plain": [
              "<Figure size 432x288 with 1 Axes>"
            ]
          },
          "metadata": {
            "tags": [],
            "needs_background": "light"
          }
        },
        {
          "output_type": "display_data",
          "data": {
            "image/png": "[encoded data removed]",
            "text/plain": [
              "<Figure size 432x288 with 1 Axes>"
            ]
          },
          "metadata": {
            "tags": [],
            "needs_background": "light"
          }
        }
      ]
    },
    {
      "cell_type": "markdown",
      "metadata": {
        "id": "MGTmMtKuZLQf"
      },
      "source": [
        "##**Defining the model along with other necessary functions**\n",
        "\n",
        "Used all the definitions from Assignment 3 - Part 1 (3 Layer Neural Net using pure numpy)"
      ]
    },
    {
      "cell_type": "markdown",
      "metadata": {
        "id": "16IgXQF9TvGd"
      },
      "source": [
        "##**Dropout**"
      ]
    },
    {
      "cell_type": "code",
      "metadata": {
        "id": "90SJ9d7vbAqU"
      },
      "source": [
        "class dropout:\n",
        "  def  __init__(self, rate):\n",
        "    self.rate = rate\n",
        "  \n",
        "  def __call__(self, input):\n",
        "    dropout_mask = np.random.binomial(1, self.rate, size=input.shape)/self.rate\n",
        "    return input * dropout_mask"
      ],
      "execution_count": 8,
      "outputs": []
    },
    {
      "cell_type": "markdown",
      "metadata": {
        "id": "BI_magw3U9f5"
      },
      "source": [
        "##**Loss Function**"
      ]
    },
    {
      "cell_type": "code",
      "metadata": {
        "id": "QvZ1WaseUeK-"
      },
      "source": [
        "#MSE loss\n",
        "class MSE:\n",
        "  def __call__(self, y_predicted, y_true):\n",
        "    self.y_predicted = y_predicted\n",
        "    self.y_true = y_true\n",
        "    return ((y_predicted - y_true) ** 2).mean()\n",
        "  \n",
        "  #update losses\n",
        "  def backward(self):\n",
        "    n = self.y_true.shape[0]\n",
        "    self.gradient = 2. * (self.y_predicted - self.y_true) / n\n",
        "    print('MSE backward', self.y_predicted.shape, self.y_true.shape, self.gradient.shape)\n",
        "    return self.gradient"
      ],
      "execution_count": 9,
      "outputs": []
    },
    {
      "cell_type": "markdown",
      "metadata": {
        "id": "4LiaOIA7VC9K"
      },
      "source": [
        "#**Linear class**"
      ]
    },
    {
      "cell_type": "code",
      "metadata": {
        "id": "ZDDvgih4VCNL"
      },
      "source": [
        "class Linear:\n",
        "  def __init__(self, input_dim: int, num_hidden: int = 1):\n",
        "    self.weights = np.random.randn(input_dim, num_hidden) * np.sqrt(2. / input_dim)\n",
        "    self.bias = np.zeros(num_hidden)\n",
        "  \n",
        "  def __call__(self, x):\n",
        "    self.x = x\n",
        "    output = x @ self.weights + self.bias\n",
        "    return output\n",
        "  \n",
        "  #backward\n",
        "  def backward(self, gradient):\n",
        "    self.weights_gradient = self.x.T @ gradient\n",
        "    self.bias_gradient = gradient.sum(axis=0)\n",
        "    self.x_gradient = gradient @ self.weights.T\n",
        "    return self.x_gradient\n",
        "\n",
        "  #update params\n",
        "  def update(self, lr):\n",
        "    self.weights = self.weights - lr * self.weights_gradient\n",
        "    self.bias = self.bias - lr * self.bias_gradient"
      ],
      "execution_count": 10,
      "outputs": []
    },
    {
      "cell_type": "markdown",
      "metadata": {
        "id": "Nky0ij2SVPm3"
      },
      "source": [
        "##**ReLU activation layer**"
      ]
    },
    {
      "cell_type": "code",
      "metadata": {
        "id": "s2zRVKsBVOvr"
      },
      "source": [
        "class Relu:\n",
        "  def __call__(self, input_):\n",
        "    self.input_ = input_\n",
        "    self.output = np.clip(self.input_, 0, None)\n",
        "    return self.output\n",
        "  \n",
        "  def backward(self, output_gradient):\n",
        "    self.input_gradient = (self.input_ > 0) * output_gradient\n",
        "    return self.input_gradient"
      ],
      "execution_count": 11,
      "outputs": []
    },
    {
      "cell_type": "markdown",
      "metadata": {
        "id": "ctauo9ReVWRS"
      },
      "source": [
        "##**Defining model class**"
      ]
    },
    {
      "cell_type": "code",
      "metadata": {
        "id": "xUYmo_TwVTyO"
      },
      "source": [
        "#Building a 3 Layer Neural Network model. Choosing 128 neurons as the hidden layer neurons. Output is 10\n",
        "\n",
        "class Model:\n",
        "  def __init__(self, input_dim, num_hidden):\n",
        "    self.linear1 = Linear(input_dim, num_hidden)\n",
        "    self.relu1 = Relu()\n",
        "    self.dropout1 = dropout(0.45)\n",
        "    self.linear2 = Linear(num_hidden, 128)\n",
        "    self.relu2 = Relu()\n",
        "    self.dropout2 = dropout(0.35)\n",
        "    self.linear3 = Linear(128, 10)\n",
        "  \n",
        "  def __call__(self, x, training=None):\n",
        "    l1 = self.linear1(x)\n",
        "    r1 = self.relu1(l1)\n",
        "    if training:\n",
        "      r1 = self.dropout1(r1)\n",
        "    l2 = self.linear2(r1)\n",
        "    r2 = self.relu2(l2)\n",
        "    if training:\n",
        "      r2 = self.dropout2(r2)\n",
        "    l3 = self.linear3(r2)\n",
        "    return l3\n",
        "  \n",
        "  def backward(self, output_gradient):\n",
        "    linear3_gradient = self.linear3.backward(output_gradient)\n",
        "    relu2_gradient = self.relu2.backward(linear3_gradient)\n",
        "    linear2_gradient = self.linear2.backward(relu2_gradient)\n",
        "\n",
        "    #dropout\n",
        "    linear2_gradient = self.dropout2(linear2_gradient)\n",
        "    relu1_gradient = self.relu1.backward(linear2_gradient)\n",
        "    linear1_gradient = self.linear1.backward(relu1_gradient)\n",
        "\n",
        "    #dropout\n",
        "    linear1_gradient = self.dropout1(linear1_gradient)\n",
        "    return linear1_gradient\n",
        "  \n",
        "  def update(self, lr):\n",
        "    self.linear3.update(lr)\n",
        "    self.linear2.update(lr)\n",
        "    self.linear1.update(lr)"
      ],
      "execution_count": 12,
      "outputs": []
    },
    {
      "cell_type": "code",
      "metadata": {
        "id": "RsqyxBALXpKE"
      },
      "source": [
        "from typing import Callable\n",
        "\n",
        "def fit(x_train: np.ndarray, y_train: np.ndarray, x_test: np.ndarray,\n",
        "        y_test: np.ndarray, model: Callable, loss: Callable,\n",
        "        learning_rate: float, num_epochs: int, batch_size=1):\n",
        "  train_loss, train_acc, test_loss, test_acc = [], [], [], []\n",
        "  \n",
        "  for epoch in range(num_epochs): \n",
        "\n",
        "    correct_cnt = 0\n",
        "    train_loss = 0.0\n",
        "\n",
        "    for i in range(int(len(x_train)/batch_size)):\n",
        "      batch_start, batch_end = ((i * batch_size), ((i+1) * batch_size))\n",
        "\n",
        "      y_pred = model(x_train[batch_start:batch_end])\n",
        "      loss_value = loss(y_pred, y_train[batch_start:batch_end])\n",
        "      gradient_from_loss = loss.backward()\n",
        "      model = model.backward(gradient_from_loss)\n",
        "      model = model.update(learning_rate)\n",
        "      \n",
        "      if epoch % 100 == 0:\n",
        "        print('Epoch', epoch)\n",
        "        train_error = loss(y_train, y_pred)\n",
        "        train_accuracy = jaccard_score(y_train, y_pred)\n",
        "        print('Train Loss {train_error}, Train Accuracy {train_accuracy')\n",
        "\n",
        "        train_loss.append(train_error)\n",
        "        train_acc.append(train_accuracy)\n",
        "\n",
        "        test_error = loss(y_test, y_pred)\n",
        "        test_accuracy = jaccard_score(y_test, y_pred)\n",
        "        print('Test Loss {test_error}, Train Accuracy {test_accuracy')\n",
        "\n",
        "        test_loss.append(test_error)\n",
        "        test_acc.append(test_accuracy)\n",
        "\n",
        "  return train_loss, train_acc, test_loss, test_acc\n",
        "         "
      ],
      "execution_count": 42,
      "outputs": []
    },
    {
      "cell_type": "code",
      "metadata": {
        "id": "ey_GVmQPlDvi"
      },
      "source": [
        "loss = MSE()\n",
        "model = Model(784, 512)\n",
        "train_acc, test_acc, test_loss, test_acc = fit(train_images, y_train, test_images, y_test,\n",
        "                          model=model, loss=loss, learning_rate=0.02, num_epochs=50, \n",
        "                          batch_size=1000)"
      ],
      "execution_count": null,
      "outputs": []
    },
    {
      "cell_type": "markdown",
      "metadata": {
        "id": "mLIpCmlfwG5h"
      },
      "source": [
        "##**Keras**"
      ]
    },
    {
      "cell_type": "code",
      "metadata": {
        "id": "W8sZUkb2jOCZ"
      },
      "source": [
        "!pip install livelossplot==0.1.2"
      ],
      "execution_count": null,
      "outputs": []
    },
    {
      "cell_type": "code",
      "metadata": {
        "id": "FjRqVSA6jFfc"
      },
      "source": [
        "#for plotting live losses while training\n",
        "\n",
        "import livelossplot\n",
        "plot_losses = livelossplot.PlotLossesKeras()"
      ],
      "execution_count": 27,
      "outputs": []
    },
    {
      "cell_type": "code",
      "metadata": {
        "id": "yGld7jJ3UVdI"
      },
      "source": [
        "#reshaping train into 3 dimensions \n",
        "\n",
        "reshaped_x_train = train_images.reshape(-1,28,28,1)\n",
        "reshaped_x_test = test_images.reshape(-1,28,28,1)"
      ],
      "execution_count": 15,
      "outputs": []
    },
    {
      "cell_type": "markdown",
      "metadata": {
        "id": "coxoj6q_ukyN"
      },
      "source": [
        "Data augmentation using datagen shown in this kaggle notebook - https://www.kaggle.com/yassineghouzam/introduction-to-cnn-keras-0-997-top-6"
      ]
    },
    {
      "cell_type": "code",
      "metadata": {
        "id": "Nzwy8tkn25MS"
      },
      "source": [
        "#Data augmentation to supplement the training data\n",
        "\n",
        "datagen = ImageDataGenerator(featurewise_center=False,\n",
        "                             samplewise_center=False,\n",
        "                             featurewise_std_normalization=False,\n",
        "                             samplewise_std_normalization=False,\n",
        "                             zca_whitening=False,\n",
        "                             rotation_range=10,\n",
        "                             zoom_range=0.1,\n",
        "                             width_shift_range=0.1,\n",
        "                             height_shift_range=0.1,\n",
        "                             horizontal_flip=False,\n",
        "                             vertical_flip=False\n",
        "                             )\n",
        "\n",
        "datagen.fit(reshaped_x_train)"
      ],
      "execution_count": 16,
      "outputs": []
    },
    {
      "cell_type": "code",
      "metadata": {
        "id": "8v1A0ZhcypWs"
      },
      "source": [
        "#creating augmented train and test\n",
        "\n",
        "train = datagen.flow(reshaped_x_train, y_train, batch_size=200)\n",
        "test = datagen.flow(reshaped_x_test, y_test, batch_size=200)"
      ],
      "execution_count": 17,
      "outputs": []
    },
    {
      "cell_type": "code",
      "metadata": {
        "id": "urrBuH7j2bzg"
      },
      "source": [
        "#define keras model with different dropout rates for each layer\n",
        "\n",
        "def keras_model():\n",
        "  model = Sequential()\n",
        "  model.add(Reshape((-1,), input_shape = (28, 28, 1)))\n",
        "  model.add((Dense(28 * 28, activation='relu')))\n",
        "  model.add(Dropout(0.50))\n",
        "  model.add(Dense(512, activation='relu'))\n",
        "  model.add(Dropout(0.45))\n",
        "  model.add(Dense(128, activation='relu'))\n",
        "  model.add(Dropout(0.30))\n",
        "  model.add(Dense(10, activation='softmax'))\n",
        "  return model"
      ],
      "execution_count": 18,
      "outputs": []
    },
    {
      "cell_type": "code",
      "metadata": {
        "id": "t-5d84pd3SQ4"
      },
      "source": [
        "#hyperparameters\n",
        "learning_rate = 0.02\n",
        "BATCH_SIZE = 150\n",
        "EPOCHS = 10\n",
        "keras_model = keras_model()"
      ],
      "execution_count": 19,
      "outputs": []
    },
    {
      "cell_type": "code",
      "metadata": {
        "id": "mpUE4oeX3aQ4"
      },
      "source": [
        "# Compile model\n",
        "keras_model.compile(optimizer='rmsprop',\n",
        "              loss='categorical_crossentropy',\n",
        "              metrics=['accuracy'])"
      ],
      "execution_count": 20,
      "outputs": []
    },
    {
      "cell_type": "code",
      "metadata": {
        "colab": {
          "base_uri": "https://localhost:8080/",
          "height": 362
        },
        "id": "pweawxQnhN6R",
        "outputId": "25615e36-8af6-4882-83bb-9397e98e6ff2"
      },
      "source": [
        "# Train model with live plot losses \n",
        "keras_model.fit(train,\n",
        "          steps_per_epoch=reshaped_x_train.shape[0],\n",
        "          epochs=EPOCHS,\n",
        "          callbacks=[plot_losses],\n",
        "          verbose=1,\n",
        "          validation_data=(test),\n",
        "          validation_steps=reshaped_x_test.shape[0])"
      ],
      "execution_count": 31,
      "outputs": [
        {
          "output_type": "display_data",
          "data": {
            "image/png": "[encoded data removed]",
            "text/plain": [
              "<Figure size 864x576 with 2 Axes>"
            ]
          },
          "metadata": {
            "tags": [],
            "needs_background": "light"
          }
        },
        {
          "output_type": "stream",
          "text": [
            "\b\b\b\b\b\b\b\b\b\b\b\b\b\b\b\b\b\b\b\b\b\b\b\b\b\b\b\b\b\b\b\b\b\b\b\b\b\b\b\b\b\b\b\b\b\b\b\b\b\b\b\b\b\b\b\b\b\b\b\b\b\b\b\b\b\b\b\b\b\b\b\b\b\b\b\b\b\b\b\b\b\b\b\b\b\b\b\b\b\b\b\b\b\b\b\b\b\b\b\b\b\b\b\b\b\b\b\b\b\b\b\b\b\b\b\b\r1000/1000 [==============================] - 151s 151ms/step - batch: 499.5000 - size: 200.0000 - loss: 0.0557 - acc: 0.9875 - val_loss: 0.3725 - val_acc: 0.9452\n"
          ],
          "name": "stdout"
        },
        {
          "output_type": "execute_result",
          "data": {
            "text/plain": [
              "<tensorflow.python.keras.callbacks.History at 0x7f52b09d6a90>"
            ]
          },
          "metadata": {
            "tags": []
          },
          "execution_count": 31
        }
      ]
    },
    {
      "cell_type": "markdown",
      "metadata": {
        "id": "JI1v0N95riHJ"
      },
      "source": [
        "## **Visualization using confusion matrix**"
      ]
    },
    {
      "cell_type": "code",
      "metadata": {
        "colab": {
          "base_uri": "https://localhost:8080/",
          "height": 311
        },
        "id": "OWz3q-8ei_FR",
        "outputId": "1718605e-4380-4d7f-8290-19350527ccf2"
      },
      "source": [
        "# confusion matrix from https://www.kaggle.com/yassineghouzam/introduction-to-cnn-keras-0-997-top-6\n",
        "import itertools\n",
        "\n",
        "def plot_confusion_matrix(cm, classes,\n",
        "                          normalize=False,\n",
        "                          title='Confusion matrix',\n",
        "                          cmap=plt.cm.Blues):\n",
        "    \"\"\"\n",
        "    This function prints and plots the confusion matrix.\n",
        "    Normalization can be applied by setting `normalize=True`.\n",
        "    \"\"\"\n",
        "    plt.imshow(cm, interpolation='nearest', cmap=cmap)\n",
        "    plt.title(title)\n",
        "    plt.colorbar()\n",
        "    tick_marks = np.arange(len(classes))\n",
        "    plt.xticks(tick_marks, classes, rotation=45)\n",
        "    plt.yticks(tick_marks, classes)\n",
        "\n",
        "    if normalize:\n",
        "        cm = cm.astype('float') / cm.sum(axis=1)[:, np.newaxis]\n",
        "\n",
        "    thresh = cm.max() / 2.\n",
        "    for i, j in itertools.product(range(cm.shape[0]), range(cm.shape[1])):\n",
        "        plt.text(j, i, cm[i, j],\n",
        "                 horizontalalignment=\"center\",\n",
        "                 color=\"white\" if cm[i, j] > thresh else \"black\")\n",
        "\n",
        "    plt.tight_layout()\n",
        "    plt.ylabel('True label')\n",
        "    plt.xlabel('Predicted label')\n",
        "\n",
        "# Predict the values from the validation dataset\n",
        "Y_pred = keras_model.predict(reshaped_x_test)\n",
        "# Convert predictions classes to one hot vectors \n",
        "Y_pred_classes = np.argmax(Y_pred,axis = 1) \n",
        "# Convert validation observations to one hot vectors\n",
        "Y_true = np.argmax(y_test,axis = 1) \n",
        "# compute the confusion matrix\n",
        "confusion_mtx = confusion_matrix(Y_true, Y_pred_classes) \n",
        "# plot the confusion matrix\n",
        "plot_confusion_matrix(confusion_mtx, classes = range(10)) "
      ],
      "execution_count": 34,
      "outputs": [
        {
          "output_type": "display_data",
          "data": {
            "image/png": "[encoded data removed]",
            "text/plain": [
              "<Figure size 432x288 with 2 Axes>"
            ]
          },
          "metadata": {
            "tags": [],
            "needs_background": "light"
          }
        }
      ]
    }
  ]
}