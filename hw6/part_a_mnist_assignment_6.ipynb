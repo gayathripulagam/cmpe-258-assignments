{
  "nbformat": 4,
  "nbformat_minor": 0,
  "metadata": {
    "colab": {
      "name": "part_a_mnist_assignment_6.ipynb",
      "provenance": [],
      "authorship_tag": "ABX9TyN8x6Your4aPwokVM4yR5Lb"
    },
    "kernelspec": {
      "name": "python3",
      "display_name": "Python 3"
    },
    "language_info": {
      "name": "python"
    }
  },
  "cells": [
    {
      "cell_type": "markdown",
      "metadata": {
        "id": "oCDofpyXSR_F"
      },
      "source": [
        "#**MNIST using Autograd**"
      ]
    },
    {
      "cell_type": "code",
      "metadata": {
        "id": "7Gk5qQ_9Lvyt"
      },
      "source": [
        "import sys, numpy as np\n",
        "from keras.datasets import mnist\n",
        "import seaborn as sns\n",
        "import matplotlib.pyplot as plt\n",
        "\n",
        "from sklearn.model_selection import train_test_split\n",
        "from sklearn.metrics import confusion_matrix\n",
        "from sklearn.metrics import jaccard_score\n",
        "\n",
        "from keras.models import Sequential\n",
        "from keras.layers import Dense, Dropout, Flatten, Conv2D, MaxPool2D, Reshape\n",
        "from keras.preprocessing.image import ImageDataGenerator\n",
        "from keras.utils import to_categorical\n",
        "\n",
        "import tensorflow.compat.v1 as tf "
      ],
      "execution_count": 1,
      "outputs": []
    },
    {
      "cell_type": "code",
      "metadata": {
        "id": "-Ctovht-MIHx"
      },
      "source": [
        "#loading the mnist data into train and test sets\n",
        "\n",
        "(x_train, y_train), (x_test, y_test) = mnist.load_data()"
      ],
      "execution_count": 7,
      "outputs": []
    },
    {
      "cell_type": "markdown",
      "metadata": {
        "id": "urNL9scNMxO_"
      },
      "source": [
        "## **visualizations**"
      ]
    },
    {
      "cell_type": "code",
      "metadata": {
        "colab": {
          "base_uri": "https://localhost:8080/",
          "height": 323
        },
        "id": "rotvO4GCMby8",
        "outputId": "e2e937ee-8ae5-497c-dce5-d8175988c89a"
      },
      "source": [
        "g = sns.countplot(y_train)"
      ],
      "execution_count": 8,
      "outputs": [
        {
          "output_type": "stream",
          "text": [
            "/usr/local/lib/python3.7/dist-packages/seaborn/_decorators.py:43: FutureWarning: Pass the following variable as a keyword arg: x. From version 0.12, the only valid positional argument will be `data`, and passing other arguments without an explicit keyword will result in an error or misinterpretation.\n",
            "  FutureWarning\n"
          ],
          "name": "stderr"
        },
        {
          "output_type": "display_data",
          "data": {
            "image/png": "[encoded data removed]",
            "text/plain": [
              "<Figure size 432x288 with 1 Axes>"
            ]
          },
          "metadata": {
            "tags": [],
            "needs_background": "light"
          }
        }
      ]
    },
    {
      "cell_type": "code",
      "metadata": {
        "colab": {
          "base_uri": "https://localhost:8080/",
          "height": 1000
        },
        "id": "HSUc4Ly5M2fm",
        "outputId": "7070aae9-c24f-4d6d-f0c5-ee164125ee59"
      },
      "source": [
        "#visualizations of the digits in mnist\n",
        "\n",
        "for i in range (0,5):\n",
        "  plt.imshow(x_train[i])\n",
        "  plt.show()"
      ],
      "execution_count": 9,
      "outputs": [
        {
          "output_type": "display_data",
          "data": {
            "image/png": "[encoded data removed]",
            "text/plain": [
              "<Figure size 432x288 with 1 Axes>"
            ]
          },
          "metadata": {
            "tags": [],
            "needs_background": "light"
          }
        },
        {
          "output_type": "display_data",
          "data": {
            "image/png": "[encoded data removed]",
            "text/plain": [
              "<Figure size 432x288 with 1 Axes>"
            ]
          },
          "metadata": {
            "tags": [],
            "needs_background": "light"
          }
        },
        {
          "output_type": "display_data",
          "data": {
            "image/png": "[encoded data removed]",
            "text/plain": [
              "<Figure size 432x288 with 1 Axes>"
            ]
          },
          "metadata": {
            "tags": [],
            "needs_background": "light"
          }
        },
        {
          "output_type": "display_data",
          "data": {
            "image/png": "[encoded data removed]",
            "text/plain": [
              "<Figure size 432x288 with 1 Axes>"
            ]
          },
          "metadata": {
            "tags": [],
            "needs_background": "light"
          }
        },
        {
          "output_type": "display_data",
          "data": {
            "image/png": "[encoded data removed]",
            "text/plain": [
              "<Figure size 432x288 with 1 Axes>"
            ]
          },
          "metadata": {
            "tags": [],
            "needs_background": "light"
          }
        }
      ]
    },
    {
      "cell_type": "code",
      "metadata": {
        "id": "8x9GFoKeNFbJ"
      },
      "source": [
        "#reshaping and normalization\n",
        "\n",
        "train_images = x_train[0:1000].reshape(1000,28*28)/255\n",
        "test_images = x_test[0:1000].reshape(1000,28*28)/255"
      ],
      "execution_count": 10,
      "outputs": []
    },
    {
      "cell_type": "code",
      "metadata": {
        "id": "jpzY9q1ANgc1"
      },
      "source": [
        "#one hot encoding the labels\n",
        "from keras.utils import np_utils\n",
        "\n",
        "train_labels = np_utils.to_categorical(y_train[0:1000], num_classes=10)\n",
        "test_labels = np_utils.to_categorical(y_test[0:1000], num_classes=10)"
      ],
      "execution_count": 12,
      "outputs": []
    },
    {
      "cell_type": "code",
      "metadata": {
        "id": "hVYfrWWrN7qq"
      },
      "source": [
        "import numpy as np\n",
        "class Tensor (object):\n",
        "    \n",
        "    def __init__(self,data,\n",
        "                 autograd=False,\n",
        "                 creators=None,\n",
        "                 creation_op=None,\n",
        "                 id=None):\n",
        "        \n",
        "        self.data = np.array(data)\n",
        "        self.autograd = autograd\n",
        "        self.grad = None\n",
        "        if(id is None):\n",
        "            self.id = np.random.randint(0,100000)\n",
        "        else:\n",
        "            self.id = id\n",
        "        \n",
        "        self.creators = creators\n",
        "        self.creation_op = creation_op\n",
        "        self.children = {}\n",
        "        \n",
        "        if(creators is not None):\n",
        "            for c in creators:\n",
        "                if(self.id not in c.children):\n",
        "                    c.children[self.id] = 1\n",
        "                else:\n",
        "                    c.children[self.id] += 1\n",
        "\n",
        "    def all_children_grads_accounted_for(self):\n",
        "        for id,cnt in self.children.items():\n",
        "            if(cnt != 0):\n",
        "                return False\n",
        "        return True \n",
        "        \n",
        "    def backward(self,grad=None, grad_origin=None):\n",
        "        if(self.autograd):\n",
        " \n",
        "            if(grad is None):\n",
        "                grad = Tensor(np.ones_like(self.data))\n",
        "\n",
        "            if(grad_origin is not None):\n",
        "                if(self.children[grad_origin.id] == 0):\n",
        "                    raise Exception(\"cannot backprop more than once\")\n",
        "                else:\n",
        "                    self.children[grad_origin.id] -= 1\n",
        "\n",
        "            if(self.grad is None):\n",
        "                self.grad = grad\n",
        "            else:\n",
        "                self.grad += grad\n",
        "          \n",
        "            assert grad.autograd == False\n",
        "\n",
        "            if(self.creators is not None and \n",
        "               (self.all_children_grads_accounted_for() or \n",
        "                grad_origin is None)):\n",
        "\n",
        "                if(self.creation_op == \"add\"):\n",
        "                    self.creators[0].backward(self.grad, self)\n",
        "                    self.creators[1].backward(self.grad, self)\n",
        "                    \n",
        "                if(self.creation_op == \"sub\"):\n",
        "                    self.creators[0].backward(Tensor(self.grad.data), self)\n",
        "                    self.creators[1].backward(Tensor(self.grad.__neg__().data), self)\n",
        "\n",
        "                if(self.creation_op == \"mul\"):\n",
        "                    new = self.grad * self.creators[1]\n",
        "                    self.creators[0].backward(new , self)\n",
        "                    new = self.grad * self.creators[0]\n",
        "                    self.creators[1].backward(new, self)                    \n",
        "                    \n",
        "                if(self.creation_op == \"mm\"):\n",
        "                    c0 = self.creators[0]\n",
        "                    c1 = self.creators[1]\n",
        "                    new = self.grad.mm(c1.transpose())\n",
        "                    c0.backward(new)\n",
        "                    new = self.grad.transpose().mm(c0).transpose()\n",
        "                    c1.backward(new)\n",
        "                    \n",
        "                if(self.creation_op == \"transpose\"):\n",
        "                    self.creators[0].backward(self.grad.transpose())\n",
        "\n",
        "                if(\"sum\" in self.creation_op):\n",
        "                    dim = int(self.creation_op.split(\"_\")[1])\n",
        "                    self.creators[0].backward(self.grad.expand(dim,\n",
        "                                                               self.creators[0].data.shape[dim]))\n",
        "\n",
        "                if(\"expand\" in self.creation_op):\n",
        "                    dim = int(self.creation_op.split(\"_\")[1])\n",
        "                    self.creators[0].backward(self.grad.sum(dim))\n",
        "                    \n",
        "                if(self.creation_op == \"neg\"):\n",
        "                    self.creators[0].backward(self.grad.__neg__())\n",
        "                    \n",
        "                if(self.creation_op == \"sigmoid\"):\n",
        "                    ones = Tensor(np.ones_like(self.grad.data))\n",
        "                    self.creators[0].backward(self.grad * (self * (ones - self)))\n",
        "                \n",
        "                if(self.creation_op == \"tanh\"):\n",
        "                    ones = Tensor(np.ones_like(self.grad.data))\n",
        "                    self.creators[0].backward(self.grad * (ones - (self * self)))\n",
        "                \n",
        "                if(self.creation_op == \"relu\"):\n",
        "                    ones = Tensor(np.ones_like(self.grad.data))\n",
        "                    self.creators[0].backward(self.grad * (ones - (self * self)))\n",
        "                \n",
        "                if(self.creation_op == \"index_select\"):\n",
        "                    new_grad = np.zeros_like(self.creators[0].data)\n",
        "                    indices_ = self.index_select_indices.data.flatten()\n",
        "                    grad_ = grad.data.reshape(len(indices_), -1)\n",
        "                    for i in range(len(indices_)):\n",
        "                        new_grad[indices_[i]] += grad_[i]\n",
        "                    self.creators[0].backward(Tensor(new_grad))\n",
        "                    \n",
        "                if(self.creation_op == \"cross_entropy\"):\n",
        "                    dx = self.softmax_output - self.target_dist\n",
        "                    self.creators[0].backward(Tensor(dx))\n",
        "                    \n",
        "    def __add__(self, other):\n",
        "        if(self.autograd and other.autograd):\n",
        "            return Tensor(self.data + other.data,\n",
        "                          autograd=True,\n",
        "                          creators=[self,other],\n",
        "                          creation_op=\"add\")\n",
        "        return Tensor(self.data + other.data)\n",
        "\n",
        "    def __neg__(self):\n",
        "        if(self.autograd):\n",
        "            return Tensor(self.data * -1,\n",
        "                          autograd=True,\n",
        "                          creators=[self],\n",
        "                          creation_op=\"neg\")\n",
        "        return Tensor(self.data * -1)\n",
        "    \n",
        "    def __sub__(self, other):\n",
        "        if(self.autograd and other.autograd):\n",
        "            return Tensor(self.data - other.data,\n",
        "                          autograd=True,\n",
        "                          creators=[self,other],\n",
        "                          creation_op=\"sub\")\n",
        "        return Tensor(self.data - other.data)\n",
        "    \n",
        "    def __mul__(self, other):\n",
        "        if(self.autograd and other.autograd):\n",
        "            return Tensor(self.data * other.data,\n",
        "                          autograd=True,\n",
        "                          creators=[self,other],\n",
        "                          creation_op=\"mul\")\n",
        "        return Tensor(self.data * other.data)    \n",
        "\n",
        "    def sum(self, dim):\n",
        "        if(self.autograd):\n",
        "            return Tensor(self.data.sum(dim),\n",
        "                          autograd=True,\n",
        "                          creators=[self],\n",
        "                          creation_op=\"sum_\"+str(dim))\n",
        "        return Tensor(self.data.sum(dim))\n",
        "    \n",
        "    def expand(self, dim,copies):\n",
        "\n",
        "        trans_cmd = list(range(0,len(self.data.shape)))\n",
        "        trans_cmd.insert(dim,len(self.data.shape))\n",
        "        new_data = self.data.repeat(copies).reshape(list(self.data.shape) + [copies]).transpose(trans_cmd)\n",
        "        \n",
        "        if(self.autograd):\n",
        "            return Tensor(new_data,\n",
        "                          autograd=True,\n",
        "                          creators=[self],\n",
        "                          creation_op=\"expand_\"+str(dim))\n",
        "        return Tensor(new_data)\n",
        "    \n",
        "    def transpose(self):\n",
        "        if(self.autograd):\n",
        "            return Tensor(self.data.transpose(),\n",
        "                          autograd=True,\n",
        "                          creators=[self],\n",
        "                          creation_op=\"transpose\")\n",
        "        \n",
        "        return Tensor(self.data.transpose())\n",
        "    \n",
        "    def mm(self, x):\n",
        "        if(self.autograd):\n",
        "            return Tensor(self.data.dot(x.data),\n",
        "                          autograd=True,\n",
        "                          creators=[self,x],\n",
        "                          creation_op=\"mm\")\n",
        "        return Tensor(self.data.dot(x.data))\n",
        "    \n",
        "    def sigmoid(self):\n",
        "        if(self.autograd):\n",
        "            return Tensor(1 / (1 + np.exp(-self.data)),\n",
        "                          autograd=True,\n",
        "                          creators=[self],\n",
        "                          creation_op=\"sigmoid\")\n",
        "        return Tensor(1 / (1 + np.exp(-self.data)))\n",
        "\n",
        "    def tanh(self):\n",
        "        if(self.autograd):\n",
        "            return Tensor(np.tanh(self.data),\n",
        "                          autograd=True,\n",
        "                          creators=[self],\n",
        "                          creation_op=\"tanh\")\n",
        "        return Tensor(np.tanh(self.data))\n",
        "    \n",
        "    def index_select(self, indices):\n",
        "\n",
        "        if(self.autograd):\n",
        "            new = Tensor(self.data[indices.data],\n",
        "                         autograd=True,\n",
        "                         creators=[self],\n",
        "                         creation_op=\"index_select\")\n",
        "            new.index_select_indices = indices\n",
        "            return new\n",
        "        return Tensor(self.data[indices.data])\n",
        "   \n",
        "    def __repr__(self):\n",
        "        return str(self.data.__repr__())\n",
        "    \n",
        "    def __str__(self):\n",
        "        return str(self.data.__str__())"
      ],
      "execution_count": 30,
      "outputs": []
    },
    {
      "cell_type": "code",
      "metadata": {
        "id": "LzAMDi-MSCtG"
      },
      "source": [
        "class Tanh(Layer):\n",
        "    def __init__(self):\n",
        "        super().__init__()\n",
        "    \n",
        "    def forward(self, input):\n",
        "        return input.tanh()\n",
        "    \n",
        "class Sigmoid(Layer):\n",
        "    def __init__(self):\n",
        "        super().__init__()\n",
        "    \n",
        "    def forward(self, input):\n",
        "        return input.sigmoid()"
      ],
      "execution_count": 43,
      "outputs": []
    },
    {
      "cell_type": "code",
      "metadata": {
        "colab": {
          "base_uri": "https://localhost:8080/"
        },
        "id": "u8DyrK6JUJAL",
        "outputId": "6074b62e-8239-47d5-9943-8ea96733acd4"
      },
      "source": [
        "import numpy\n",
        "np.random.seed(0)\n",
        "\n",
        "data = Tensor(train_images, autograd=True)\n",
        "target = Tensor(train_labels, autograd=True)\n",
        "\n",
        "model = Sequential([Linear(784,528), Tanh(), Linear(528,128), Tanh(), Linear(128, 64), Sigmoid(), Linear(64, 10), Sigmoid()])\n",
        "criterion = MSELoss()\n",
        "\n",
        "optim = SGD(parameters=model.get_parameters(), alpha=0.001)\n",
        "\n",
        "for i in range(200):\n",
        "    \n",
        "    # Predict\n",
        "    pred = model.forward(data)\n",
        "    \n",
        "    # Compare\n",
        "    loss = criterion.forward(pred, target)\n",
        "    \n",
        "    # Learn\n",
        "    loss.backward(Tensor(np.ones_like(loss.data)))\n",
        "    optim.step()\n",
        "    print(np.mean(loss.data))"
      ],
      "execution_count": 53,
      "outputs": [
        {
          "output_type": "stream",
          "text": [
            "244.44028637614792\n",
            "94.07128286112028\n",
            "93.33555006464695\n",
            "92.62507114243519\n",
            "91.86349428248758\n",
            "91.05534603445905\n",
            "90.18435220394807\n",
            "89.22253289116325\n",
            "88.1559605763798\n",
            "86.99232895441116\n",
            "85.74842374171119\n",
            "84.43111381667521\n",
            "83.03193322385103\n",
            "81.54033009304923\n",
            "79.9551239306166\n",
            "78.2863952174103\n",
            "76.55215082582012\n",
            "74.77295934259753\n",
            "72.96765820274928\n",
            "71.15224741896353\n",
            "69.34117475308703\n",
            "67.5486332652503\n",
            "65.78818087840196\n",
            "64.07130201509797\n",
            "62.40662252620086\n",
            "60.800084453780094\n",
            "59.25537052904049\n",
            "57.77417341202007\n",
            "56.35632973308439\n",
            "55.00001827934157\n",
            "53.70214525987923\n",
            "52.45883275529652\n",
            "51.265860163067984\n",
            "50.11898339426765\n",
            "49.01413181864076\n",
            "47.947516969679626\n",
            "46.91568991256486\n",
            "45.915571580147606\n",
            "44.94446589291398\n",
            "44.00005865338953\n",
            "43.08040373894106\n",
            "42.18389993257193\n",
            "41.3092607121162\n",
            "40.45548003381986\n",
            "39.62179402124477\n",
            "38.807641248509164\n",
            "38.012620903369125\n",
            "37.23645361368749\n",
            "36.47894350971631\n",
            "35.73994765302359\n",
            "35.01934810077945\n",
            "34.3170336540206\n",
            "33.632881925391246\n",
            "32.966751758699395\n",
            "32.31847162927663\n",
            "31.68784009436671\n",
            "31.074617301889948\n",
            "30.478532450571358\n",
            "29.899276026659493\n",
            "29.33651401627687\n",
            "28.78987784460732\n",
            "28.258985252151682\n",
            "27.743424150715022\n",
            "27.242781313175083\n",
            "26.756616164503168\n",
            "26.28450076757399\n",
            "25.82597901436146\n",
            "25.380624279660005\n",
            "24.947977808738678\n",
            "24.527634374801135\n",
            "24.119151065916274\n",
            "23.72217829966558\n",
            "23.336328036383232\n",
            "22.96138175618702\n",
            "22.5971099208406\n",
            "22.243619281731377\n",
            "21.901139198122888\n",
            "21.570638325679532\n",
            "21.253692127245596\n",
            "20.953636073514154\n",
            "20.67596613416813\n",
            "20.430451862575204\n",
            "20.23346044726863\n",
            "20.11062112111674\n",
            "20.10377848504525\n",
            "20.26419889491092\n",
            "20.661084106922644\n",
            "21.301413491014905\n",
            "22.11739259723594\n",
            "22.738463469582484\n",
            "22.719190243550727\n",
            "21.904065078672645\n",
            "20.504726509227254\n",
            "19.184084287342706\n",
            "18.140291865217\n",
            "17.416162975601768\n",
            "16.924289757396984\n",
            "16.550728006090786\n",
            "16.256121964090617\n",
            "15.998449300114714\n",
            "15.76740409351159\n",
            "15.550938624519125\n",
            "15.345714694846805\n",
            "15.148092306462654\n",
            "14.956757110928152\n",
            "14.770469018386944\n",
            "14.588634171536421\n",
            "14.410760070454984\n",
            "14.23653990696032\n",
            "14.065738051942168\n",
            "13.898171518490404\n",
            "13.73370209504298\n",
            "13.572204484808339\n",
            "13.4135813949147\n",
            "13.257736755942332\n",
            "13.104592505734473\n",
            "12.954068822744727\n",
            "12.806097933376549\n",
            "12.660610022280997\n",
            "12.51754370014007\n",
            "12.376836026653724\n",
            "12.238430234679836\n",
            "12.102268646641388\n",
            "11.968298325016425\n",
            "11.836466016166476\n",
            "11.70672227322564\n",
            "11.579017825784167\n",
            "11.45330658285336\n",
            "11.329543009897549\n",
            "11.20768430770992\n",
            "11.087688503076834\n",
            "10.969516016932836\n",
            "10.85312826094524\n",
            "10.738488749841732\n",
            "10.625562056946865\n",
            "10.514314585219928\n",
            "10.40471377890791\n",
            "10.296728640585595\n",
            "10.190329128713957\n",
            "10.085486489547868\n",
            "9.982172794202814\n",
            "9.880361140991532\n",
            "9.780025301963853\n",
            "9.681139840182668\n",
            "9.583679845618416\n",
            "9.487621001414853\n",
            "9.392939393836581\n",
            "9.299611551382181\n",
            "9.207614315034895\n",
            "9.116924864818953\n",
            "9.027520636852191\n",
            "8.939379344573469\n",
            "8.852478929579197\n",
            "8.766797579892266\n",
            "8.6823137030426\n",
            "8.599005941378442\n",
            "8.516853158319613\n",
            "8.435834450258076\n",
            "8.355929139883482\n",
            "8.277116784850387\n",
            "8.199377174920176\n",
            "8.122690338492573\n",
            "8.047036542517422\n",
            "7.972396298633003\n",
            "7.898750366117116\n",
            "7.82607975948121\n",
            "7.754365755165033\n",
            "7.683589902014775\n",
            "7.6137340321941975\n",
            "7.5447802752182795\n",
            "7.4767110729635435\n",
            "7.409509197082352\n",
            "7.343157767332417\n",
            "7.277640271461927\n",
            "7.212940585532934\n",
            "7.149042994848571\n",
            "7.085932214594942\n",
            "7.023593410091687\n",
            "6.962012215918418\n",
            "6.90117475366975\n",
            "6.841067647726786\n",
            "6.781678038740988\n",
            "6.7229935943253025\n",
            "6.665002516651889\n",
            "6.607693546560898\n",
            "6.55105596393358\n",
            "6.495079584059863\n",
            "6.439754749853668\n",
            "6.385072319796722\n",
            "6.331023651605456\n",
            "6.277600581677698\n",
            "6.224795400486441\n",
            "6.17260082416953\n",
            "6.121009962668983\n",
            "6.070016284858296\n",
            "6.01961358118623\n",
            "5.96979592443604\n",
            "5.920557629261363\n",
            "5.871893211199736\n",
            "5.823797345885935\n"
          ],
          "name": "stdout"
        }
      ]
    },
    {
      "cell_type": "markdown",
      "metadata": {
        "id": "vU9aw2JUYEKV"
      },
      "source": [
        "##**Unit tests**"
      ]
    },
    {
      "cell_type": "code",
      "metadata": {
        "colab": {
          "base_uri": "https://localhost:8080/"
        },
        "id": "KEOOylxFYD0a",
        "outputId": "552efa3a-9bbb-4d03-a89d-f5d6288dfbc0"
      },
      "source": [
        "x = Tensor([3,4,5,6], autograd=True)\n",
        "y = Tensor([1,1,1,1], autograd=True)\n",
        "z = Tensor([6,5,4,3], autograd=True)\n",
        "\n",
        "a = x + y\n",
        "b = y + z\n",
        "c = a + b\n",
        "\n",
        "c.backward(Tensor(np.array([3,3,3,3])))\n",
        "print(c.grad.data != np.array([1,1,1,1]))"
      ],
      "execution_count": 63,
      "outputs": [
        {
          "output_type": "stream",
          "text": [
            "[ True  True  True  True]\n"
          ],
          "name": "stdout"
        }
      ]
    }
  ]
}